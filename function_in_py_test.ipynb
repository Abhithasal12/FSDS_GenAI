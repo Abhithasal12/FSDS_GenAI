{
 "cells": [
  {
   "cell_type": "code",
   "execution_count": null,
   "metadata": {},
   "outputs": [
    {
     "name": "stdout",
     "output_type": "stream",
     "text": [
      "ok\n"
     ]
    }
   ],
   "source": [
    "print(\"ok\")"
   ]
  },
  {
   "cell_type": "code",
   "execution_count": null,
   "metadata": {},
   "outputs": [
    {
     "name": "stdout",
     "output_type": "stream",
     "text": [
      "shoot\n"
     ]
    }
   ],
   "source": [
    "# pubg()\n",
    "enemy = True\n",
    "if enemy == True:\n",
    "    print(\"shoot\")\n",
    "else:\n",
    "    print(\"Don't shoot\")    \n",
    "    "
   ]
  },
  {
   "cell_type": "code",
   "execution_count": null,
   "metadata": {},
   "outputs": [],
   "source": [
    "def pubg():\n",
    "   \"\"\"\n",
    "   This function named  Pubg() & returns shoot if enemy is there\n",
    "   else returns Don't shoot if enemy is not there\n",
    "   \"\"\"\n",
    "   enemy = True\n",
    "  \n",
    "   if enemy == True:\n",
    "    print(\"shoot\")\n",
    "   else:\n",
    "    print(\"Don't shoot\")\n",
    "    \n",
    "    pubg()"
   ]
  },
  {
   "cell_type": "code",
   "execution_count": null,
   "metadata": {},
   "outputs": [
    {
     "name": "stdout",
     "output_type": "stream",
     "text": [
      "shoot\n",
      "shoot\n"
     ]
    }
   ],
   "source": [
    "pubg()\n",
    "pubg()"
   ]
  },
  {
   "cell_type": "code",
   "execution_count": null,
   "metadata": {},
   "outputs": [
    {
     "name": "stdout",
     "output_type": "stream",
     "text": [
      "\n",
      "   This function named  Pubg() & returns shoot if enemy is there\n",
      "   else returns Don't shoot if enemy is not there\n",
      "   \n"
     ]
    }
   ],
   "source": [
    "print(pubg.__doc__)"
   ]
  },
  {
   "cell_type": "code",
   "execution_count": null,
   "metadata": {},
   "outputs": [
    {
     "data": {
      "text/plain": [
       "'are you mad'"
      ]
     },
     "metadata": {},
     "output_type": "display_data"
    }
   ],
   "source": [
    "def odd_even(num):\n",
    "    \"\"\"\n",
    "    this function named odd_even & odd & even with respect to number given by user\n",
    "    INPUT: num\n",
    "    OUTPUT: odd & even\n",
    "    created on 19th Dec 2024\n",
    "    \"\"\"\n",
    "    if type(num) == int:\n",
    "        if num%2 ==0:\n",
    "            return \"even\"\n",
    "        else:\n",
    "            return \"odd\"\n",
    "    \n",
    "\n",
    "    else:\n",
    "        return \"are you mad\"\n",
    "\n",
    "\n",
    "\n",
    "odd_even(4)\n",
    "odd_even(\"abcd\")"
   ]
  },
  {
   "cell_type": "markdown",
   "metadata": {},
   "source": [
    "# Parameters Vs Arguments\n",
    "\n",
    "Types of Argument\n",
    "\n",
    "\n",
    "1.Default Argument\n",
    "2.positional Argument\n",
    "3. keyword Argument"
   ]
  },
  {
   "cell_type": "code",
   "execution_count": null,
   "metadata": {},
   "outputs": [
    {
     "data": {
      "text/plain": [
       "8"
      ]
     },
     "metadata": {},
     "output_type": "display_data"
    }
   ],
   "source": [
    "#Positioal argument: means it taking one position value ex:((A,B), A is a positioan value   )\n",
    " \n",
    "def power(a,b):\n",
    "    return a**b\n",
    "\n",
    "power(2,3) # ((a,b), b is argument ex:(2,3) 2 squerroot  #output= is 8 )"
   ]
  },
  {
   "cell_type": "markdown",
   "metadata": {},
   "source": []
  },
  {
   "cell_type": "code",
   "execution_count": null,
   "metadata": {},
   "outputs": [
    {
     "data": {
      "text/plain": [
       "1"
      ]
     },
     "metadata": {},
     "output_type": "display_data"
    }
   ],
   "source": [
    "#Default argument: means it's taking default value  \n",
    "\n",
    "def power(a=1,b=3):\n",
    "    return a**b\n",
    "\n",
    "power()"
   ]
  },
  {
   "cell_type": "code",
   "execution_count": null,
   "metadata": {},
   "outputs": [
    {
     "data": {
      "text/plain": [
       "729"
      ]
     },
     "metadata": {},
     "output_type": "display_data"
    }
   ],
   "source": [
    "#keyword argument:\n",
    "\n",
    "def power(a,b):\n",
    "    return a**b\n",
    "\n",
    "power(a=3,b=6)"
   ]
  },
  {
   "cell_type": "markdown",
   "metadata": {},
   "source": [
    "# args and KWargs\n",
    " allow us to pass a variable number of non-keyword arguments to a function"
   ]
  },
  {
   "cell_type": "code",
   "execution_count": null,
   "metadata": {},
   "outputs": [
    {
     "data": {
      "text/plain": [
       "6"
      ]
     },
     "metadata": {},
     "output_type": "display_data"
    }
   ],
   "source": [
    "def adds(a,b,c):\n",
    "    return a+b+c\n",
    "\n",
    "adds(1,2,3)"
   ]
  },
  {
   "cell_type": "code",
   "execution_count": null,
   "metadata": {},
   "outputs": [],
   "source": [
    "def adds(*args): # * is mandatory name can be changed\n",
    "    output = 0\n",
    "    \n",
    "    for i in args:\n",
    "        output = output + i\n",
    "\n",
    "    return output\n",
    "\n"
   ]
  },
  {
   "cell_type": "code",
   "execution_count": null,
   "metadata": {},
   "outputs": [
    {
     "data": {
      "text/plain": [
       "289"
      ]
     },
     "metadata": {},
     "output_type": "display_data"
    }
   ],
   "source": [
    "adds(1,2,3,4,5,6,244,7,8,9)"
   ]
  },
  {
   "cell_type": "code",
   "execution_count": null,
   "metadata": {},
   "outputs": [],
   "source": [
    "def adds(*abhi): # * is mandatory name can be changed\n",
    "    output = 0\n",
    "    \n",
    "    for i in abhi:\n",
    "        \n",
    "        output = output + i\n",
    "\n",
    "    return output\n",
    "\n"
   ]
  },
  {
   "cell_type": "code",
   "execution_count": null,
   "metadata": {},
   "outputs": [
    {
     "data": {
      "text/plain": [
       "196"
      ]
     },
     "metadata": {},
     "output_type": "display_data"
    }
   ],
   "source": [
    "def adds(*abhi): # * is mandatory name can be changed\n",
    "    output = 0\n",
    "    input = 0\n",
    "    for i in abhi:\n",
    "        for j in abhi:\n",
    "            output = output + i\n",
    "            input = input + j\n",
    "\n",
    "    return output\n",
    "\n",
    "adds(1, 2, 3, 4, 5, 6,7)"
   ]
  },
  {
   "cell_type": "code",
   "execution_count": null,
   "metadata": {},
   "outputs": [
    {
     "data": {
      "text/plain": [
       "2890"
      ]
     },
     "metadata": {},
     "output_type": "display_data"
    }
   ],
   "source": [
    "adds(1,2,3,4,5,6,244,7,8,9)\n"
   ]
  },
  {
   "cell_type": "markdown",
   "metadata": {},
   "source": [
    "# Kwagrs \n",
    "\n",
    "#Kwagrs allows us to pass any number of keyword arguments"
   ]
  },
  {
   "cell_type": "code",
   "execution_count": null,
   "metadata": {},
   "outputs": [],
   "source": [
    "def display_info(**kwargs): # ** is mandatory name can be changed\n",
    "\n",
    "    for key, value in kwargs.items():\n",
    "        print(key, '->', value)\n",
    "\n",
    "   # print(kwargs)    "
   ]
  },
  {
   "cell_type": "code",
   "execution_count": null,
   "metadata": {},
   "outputs": [
    {
     "name": "stdout",
     "output_type": "stream",
     "text": [
      "india -> delhi\n",
      "srilanka -> colombo\n",
      "nepal -> katmandu\n",
      "pakistan -> islamabad\n"
     ]
    }
   ],
   "source": [
    "display_info(india= 'delhi', srilanka= 'colombo', nepal= 'katmandu',pakistan= 'islamabad')"
   ]
  },
  {
   "cell_type": "code",
   "execution_count": null,
   "metadata": {},
   "outputs": [
    {
     "name": "stdout",
     "output_type": "stream",
     "text": [
      "india -> delhi <--> india <- delhi\n",
      "srilanka -> colombo <--> srilanka <- colombo\n",
      "nepal -> katmandu <--> nepal <- katmandu\n",
      "pakistan -> islamabad <--> pakistan <- islamabad\n"
     ]
    }
   ],
   "source": [
    "def adds(**Kwargs):\n",
    "\n",
    "    for key, value in Kwargs.items():\n",
    "        print(key, '->', value ,'<-->',key, '<-', value)\n",
    "             \n",
    "\n",
    "adds(india= 'delhi', srilanka= 'colombo', nepal= 'katmandu',pakistan= 'islamabad')"
   ]
  },
  {
   "cell_type": "code",
   "execution_count": null,
   "metadata": {},
   "outputs": [
    {
     "name": "stdout",
     "output_type": "stream",
     "text": [
      "india -> delhi <--> india <- delhi\n",
      "srilanka -> colombo <--> srilanka <- colombo\n",
      "nepal -> katmandu <--> nepal <- katmandu\n",
      "pakistan -> islamabad <--> pakistan <- islamabad\n"
     ]
    }
   ],
   "source": [
    "adds(india= 'delhi', srilanka= 'colombo', nepal= 'katmandu',pakistan= 'islamabad')"
   ]
  },
  {
   "cell_type": "markdown",
   "metadata": {},
   "source": [
    "# Nested Functions"
   ]
  },
  {
   "cell_type": "code",
   "execution_count": null,
   "metadata": {},
   "outputs": [
    {
     "name": "stdout",
     "output_type": "stream",
     "text": [
      "inside function g\n",
      "inside function f\n"
     ]
    }
   ],
   "source": [
    "def f():\n",
    "\n",
    "    def g():\n",
    "        print(\"inside function g\")\n",
    "\n",
    "    g()\n",
    "    print(\"inside function f\")    \n",
    "\n",
    "\n",
    "f()    "
   ]
  },
  {
   "cell_type": "markdown",
   "metadata": {},
   "source": [
    "# Lambda function\n",
    "\n",
    "#Lambda a, b : a+b\n",
    "\n",
    "#A Lambda function is small anonymous function"
   ]
  },
  {
   "cell_type": "code",
   "execution_count": null,
   "metadata": {},
   "outputs": [],
   "source": [
    "def product(a,b):\n",
    "    return a**b"
   ]
  },
  {
   "cell_type": "code",
   "execution_count": null,
   "metadata": {},
   "outputs": [],
   "source": [
    "a =lambda a,b : a**b"
   ]
  },
  {
   "cell_type": "code",
   "execution_count": null,
   "metadata": {},
   "outputs": [
    {
     "data": {
      "text/plain": [
       "32"
      ]
     },
     "metadata": {},
     "output_type": "display_data"
    }
   ],
   "source": [
    "a(2,5)"
   ]
  },
  {
   "cell_type": "code",
   "execution_count": null,
   "metadata": {},
   "outputs": [
    {
     "data": {
      "text/plain": [
       "False"
      ]
     },
     "metadata": {},
     "output_type": "display_data"
    }
   ],
   "source": [
    "a= lambda s: 'a' in s\n",
    "\n",
    "a(\"hello\")"
   ]
  },
  {
   "cell_type": "code",
   "execution_count": null,
   "metadata": {},
   "outputs": [
    {
     "data": {
      "text/plain": [
       "'even'"
      ]
     },
     "metadata": {},
     "output_type": "display_data"
    }
   ],
   "source": [
    "a= lambda x: 'even' if x%2==0 else 'odd'\n",
    "a(2)"
   ]
  },
  {
   "cell_type": "markdown",
   "metadata": {},
   "source": [
    "## Higer order function\n"
   ]
  },
  {
   "cell_type": "code",
   "execution_count": null,
   "metadata": {},
   "outputs": [
    {
     "name": "stdout",
     "output_type": "stream",
     "text": [
      "4\n",
      "9\n",
      "16\n",
      "25\n",
      "36\n"
     ]
    }
   ],
   "source": [
    "def squer(x):\n",
    "    return x**2\n",
    "\n",
    "l =[2,3,4,5,6]\n",
    "\n",
    "for i in l:\n",
    "    out= squer(i)\n",
    "    print(out)"
   ]
  },
  {
   "cell_type": "code",
   "execution_count": null,
   "metadata": {},
   "outputs": [],
   "source": [
    "l =[2,3,4,5,6]\n",
    "def squer(x):\n",
    "    return x**2\n",
    "\n",
    "def abhi(f,l):\n",
    "    output=[]\n",
    "\n",
    "    for i in l:\n",
    "        output.append(f(i))\n",
    "\n",
    "    print(output)        \n",
    "\n",
    "\n"
   ]
  },
  {
   "cell_type": "code",
   "execution_count": null,
   "metadata": {},
   "outputs": [
    {
     "name": "stdout",
     "output_type": "stream",
     "text": [
      "[16, 81, 256, 625, 1296]\n"
     ]
    }
   ],
   "source": [
    "abhi(lambda x:x**4, l)"
   ]
  },
  {
   "cell_type": "code",
   "execution_count": null,
   "metadata": {},
   "outputs": [
    {
     "name": "stdout",
     "output_type": "stream",
     "text": [
      "[4, 9, 16, 25, 36]\n"
     ]
    }
   ],
   "source": [
    "abhi(lambda x:squer(x), l)"
   ]
  },
  {
   "cell_type": "markdown",
   "metadata": {},
   "source": [
    "# map ()"
   ]
  },
  {
   "cell_type": "code",
   "execution_count": null,
   "metadata": {},
   "outputs": [
    {
     "data": {
      "text/plain": [
       "[1, 4, 9, 16, 25, 36]"
      ]
     },
     "metadata": {},
     "output_type": "display_data"
    }
   ],
   "source": [
    "l = [1,2,3,4,5,6]\n",
    "# square the iterm of this list [map function yous for short queries in one line]\n",
    "\n",
    "a=list(map(lambda x:x**2, l))\n",
    "a"
   ]
  },
  {
   "cell_type": "code",
   "execution_count": null,
   "metadata": {},
   "outputs": [
    {
     "data": {
      "text/plain": [
       "['even', 'odd', 'even', 'odd', 'even', 'odd', 'even', 'even', 'even']"
      ]
     },
     "metadata": {},
     "output_type": "display_data"
    }
   ],
   "source": [
    "# odd and even numbers\n",
    "\n",
    "l = [1,2,3,4,5,6,7,9,11]\n",
    "\n",
    "# find odd and even numbers\n",
    "\n",
    "a=list(map(lambda x: 'odd' if x%2==0 else 'even', l))\n",
    "a"
   ]
  },
  {
   "cell_type": "code",
   "execution_count": null,
   "metadata": {},
   "outputs": [
    {
     "data": {
      "text/plain": [
       "(['John Doe', 'Abhi God', 'Peter Parker'],\n",
       " [30, 27, 35],\n",
       " ['New York', 'India', 'New York'])"
      ]
     },
     "metadata": {},
     "output_type": "display_data"
    }
   ],
   "source": [
    "#Data Analysis\n",
    "\n",
    "users = [\n",
    "    {\n",
    "        'name': 'John Doe',\n",
    "        'age': 30,\n",
    "        'city': 'New York'\n",
    "    },\n",
    "    {\n",
    "        'name': 'Abhi God',\n",
    "        'age': 27,\n",
    "        'city': 'India'\n",
    "    },\n",
    "    {\n",
    "        'name': 'Peter Parker',\n",
    "        'age': 35,\n",
    "        'city': 'New York'\n",
    "    }\n",
    "    ]\n",
    "\n",
    "#list(map(lambda users:users['name'],['name'], users))\n",
    "#<lambda>() takes 1 positional argument\n",
    "\n",
    "n=list(map(lambda users:users['name'], users))\n",
    "a=list(map(lambda users:users['age'], users))\n",
    "c=list(map(lambda users:users['city'], users))\n",
    "n,a,c"
   ]
  },
  {
   "cell_type": "code",
   "execution_count": null,
   "metadata": {},
   "outputs": [
    {
     "ename": "NameError",
     "evalue": "name 'name' is not defined",
     "output_type": "error",
     "traceback": [
      "\u001b[1;31m---------------------------------------------------------------------------\u001b[0m\n",
      "\u001b[1;31mNameError\u001b[0m                                 Traceback (most recent call last)\n",
      "Cell \u001b[1;32mIn[33], line 1\u001b[0m\n",
      "\u001b[1;32m----> 1\u001b[0m a\u001b[38;5;241m=\u001b[39m[name \u001b[38;5;241m+\u001b[39m age \u001b[38;5;241m+\u001b[39m city]\n",
      "\n",
      "\u001b[1;31mNameError\u001b[0m: name 'name' is not defined"
     ]
    }
   ],
   "source": [
    "\n",
    "a=[name + age + city]"
   ]
  },
  {
   "cell_type": "code",
   "execution_count": null,
   "metadata": {},
   "outputs": [
    {
     "data": {
      "text/plain": [
       "[['John Doe',\n",
       "  'Abhi God',\n",
       "  'Peter Parker',\n",
       "  30,\n",
       "  27,\n",
       "  35,\n",
       "  'New York',\n",
       "  'India',\n",
       "  'New York']]"
      ]
     },
     "metadata": {},
     "output_type": "display_data"
    }
   ],
   "source": [
    "a"
   ]
  },
  {
   "cell_type": "markdown",
   "metadata": {},
   "source": [
    "# Filter ()"
   ]
  },
  {
   "cell_type": "code",
   "execution_count": null,
   "metadata": {},
   "outputs": [
    {
     "data": {
      "text/plain": [
       "[4, 5, 6, 7, 9, 11]"
      ]
     },
     "metadata": {},
     "output_type": "display_data"
    }
   ],
   "source": [
    "l = [1,2,3,4,5,6,7,9,11]\n",
    "\n",
    "# number greater than 3\n",
    "\n",
    "a=list(filter(lambda x: x>3, l))\n",
    "a"
   ]
  },
  {
   "cell_type": "code",
   "execution_count": null,
   "metadata": {},
   "outputs": [
    {
     "data": {
      "text/plain": [
       "['apple']"
      ]
     },
     "metadata": {},
     "output_type": "display_data"
    }
   ],
   "source": [
    "fruits =[\"apple\", \"bananas\", \"orange\"]\n",
    "\n",
    "# find fruits start with 'a' useing startwith function\n",
    "list(filter(lambda x:x.startswith('a'), fruits ))"
   ]
  },
  {
   "cell_type": "code",
   "execution_count": null,
   "metadata": {},
   "outputs": [],
   "source": [
    "import functools"
   ]
  },
  {
   "cell_type": "code",
   "execution_count": null,
   "metadata": {},
   "outputs": [
    {
     "data": {
      "text/plain": [
       "21"
      ]
     },
     "metadata": {},
     "output_type": "display_data"
    }
   ],
   "source": [
    "L = [1, 2,3,4,5,6]\n",
    "\n",
    "# Use functools.reduce to adding all numbers in list\n",
    "\n",
    "a=functools.reduce(lambda x, y: x + y, L)\n",
    "a"
   ]
  },
  {
   "cell_type": "code",
   "execution_count": null,
   "metadata": {},
   "outputs": [
    {
     "data": {
      "text/plain": [
       "1"
      ]
     },
     "metadata": {},
     "output_type": "display_data"
    }
   ],
   "source": [
    "L = [1, 2,3,4,5,6]\n",
    "\n",
    "# Use functools.reduce to max-value all numbers in list\n",
    "\n",
    "a=functools.reduce(lambda x, y: x if x>y else y, L)\n",
    "a2=functools.reduce(lambda x, y: x if x<y else y, L)\n",
    "a2"
   ]
  },
  {
   "cell_type": "code",
   "execution_count": null,
   "metadata": {},
   "outputs": [],
   "source": []
  },
  {
   "cell_type": "code",
   "execution_count": null,
   "metadata": {},
   "outputs": [],
   "source": []
  },
  {
   "cell_type": "code",
   "execution_count": null,
   "metadata": {},
   "outputs": [],
   "source": []
  },
  {
   "cell_type": "code",
   "execution_count": null,
   "metadata": {},
   "outputs": [],
   "source": []
  },
  {
   "cell_type": "code",
   "execution_count": null,
   "metadata": {},
   "outputs": [],
   "source": []
  },
  {
   "cell_type": "code",
   "execution_count": null,
   "metadata": {},
   "outputs": [],
   "source": []
  },
  {
   "cell_type": "code",
   "execution_count": null,
   "metadata": {},
   "outputs": [],
   "source": []
  },
  {
   "cell_type": "code",
   "execution_count": null,
   "metadata": {},
   "outputs": [],
   "source": []
  },
  {
   "cell_type": "code",
   "execution_count": null,
   "metadata": {},
   "outputs": [],
   "source": []
  },
  {
   "cell_type": "code",
   "execution_count": null,
   "metadata": {},
   "outputs": [],
   "source": []
  },
  {
   "cell_type": "code",
   "execution_count": null,
   "metadata": {},
   "outputs": [],
   "source": []
  },
  {
   "cell_type": "code",
   "execution_count": null,
   "metadata": {},
   "outputs": [],
   "source": []
  },
  {
   "cell_type": "code",
   "execution_count": null,
   "metadata": {},
   "outputs": [],
   "source": []
  },
  {
   "cell_type": "code",
   "execution_count": null,
   "metadata": {},
   "outputs": [],
   "source": []
  },
  {
   "cell_type": "code",
   "execution_count": null,
   "metadata": {},
   "outputs": [],
   "source": []
  },
  {
   "cell_type": "code",
   "execution_count": null,
   "metadata": {},
   "outputs": [],
   "source": []
  },
  {
   "cell_type": "code",
   "execution_count": null,
   "metadata": {},
   "outputs": [],
   "source": []
  },
  {
   "cell_type": "code",
   "execution_count": null,
   "metadata": {},
   "outputs": [],
   "source": []
  },
  {
   "cell_type": "code",
   "execution_count": null,
   "metadata": {},
   "outputs": [],
   "source": []
  },
  {
   "cell_type": "code",
   "execution_count": null,
   "metadata": {},
   "outputs": [],
   "source": []
  },
  {
   "cell_type": "code",
   "execution_count": null,
   "metadata": {},
   "outputs": [],
   "source": []
  },
  {
   "cell_type": "code",
   "execution_count": null,
   "metadata": {},
   "outputs": [],
   "source": []
  },
  {
   "cell_type": "code",
   "execution_count": null,
   "metadata": {},
   "outputs": [],
   "source": []
  },
  {
   "cell_type": "code",
   "execution_count": null,
   "metadata": {},
   "outputs": [],
   "source": []
  },
  {
   "cell_type": "code",
   "execution_count": null,
   "metadata": {},
   "outputs": [],
   "source": []
  },
  {
   "cell_type": "code",
   "execution_count": null,
   "metadata": {},
   "outputs": [],
   "source": []
  },
  {
   "cell_type": "code",
   "execution_count": null,
   "metadata": {},
   "outputs": [],
   "source": []
  },
  {
   "cell_type": "code",
   "execution_count": null,
   "metadata": {},
   "outputs": [],
   "source": []
  },
  {
   "cell_type": "code",
   "execution_count": null,
   "metadata": {},
   "outputs": [],
   "source": []
  },
  {
   "cell_type": "code",
   "execution_count": null,
   "metadata": {},
   "outputs": [],
   "source": []
  },
  {
   "cell_type": "code",
   "execution_count": null,
   "metadata": {},
   "outputs": [],
   "source": []
  },
  {
   "cell_type": "code",
   "execution_count": null,
   "metadata": {},
   "outputs": [],
   "source": []
  },
  {
   "cell_type": "code",
   "execution_count": null,
   "metadata": {},
   "outputs": [],
   "source": []
  },
  {
   "cell_type": "code",
   "execution_count": null,
   "metadata": {},
   "outputs": [],
   "source": []
  },
  {
   "cell_type": "code",
   "execution_count": null,
   "metadata": {},
   "outputs": [],
   "source": []
  },
  {
   "cell_type": "code",
   "execution_count": null,
   "metadata": {},
   "outputs": [],
   "source": []
  },
  {
   "cell_type": "code",
   "execution_count": null,
   "metadata": {},
   "outputs": [],
   "source": []
  },
  {
   "cell_type": "code",
   "execution_count": null,
   "metadata": {},
   "outputs": [],
   "source": []
  },
  {
   "cell_type": "code",
   "execution_count": null,
   "metadata": {},
   "outputs": [],
   "source": []
  },
  {
   "cell_type": "code",
   "execution_count": null,
   "metadata": {},
   "outputs": [],
   "source": []
  },
  {
   "cell_type": "code",
   "execution_count": null,
   "metadata": {},
   "outputs": [],
   "source": []
  },
  {
   "cell_type": "code",
   "execution_count": null,
   "metadata": {},
   "outputs": [
    {
     "ename": "FileNotFoundError",
     "evalue": "[Errno 2] No such file or directory: 'omg_compressed.jpg'",
     "output_type": "error",
     "traceback": [
      "\u001b[1;31m---------------------------------------------------------------------------\u001b[0m\n",
      "\u001b[1;31mFileNotFoundError\u001b[0m                         Traceback (most recent call last)\n",
      "Cell \u001b[1;32mIn[16], line 8\u001b[0m\n",
      "\u001b[0;32m      5\u001b[0m input_path \u001b[38;5;241m=\u001b[39m \u001b[38;5;124m'\u001b[39m\u001b[38;5;124momg_compressed.jpg\u001b[39m\u001b[38;5;124m'\u001b[39m\n",
      "\u001b[0;32m      6\u001b[0m output_path \u001b[38;5;241m=\u001b[39m \u001b[38;5;124m'\u001b[39m\u001b[38;5;124momg_compressed.png\u001b[39m\u001b[38;5;124m'\u001b[39m\n",
      "\u001b[1;32m----> 8\u001b[0m inp \u001b[38;5;241m=\u001b[39m Image\u001b[38;5;241m.\u001b[39mopen(input_path)\n",
      "\u001b[0;32m     10\u001b[0m output \u001b[38;5;241m=\u001b[39m remove(inp)\n",
      "\u001b[0;32m     12\u001b[0m output\u001b[38;5;241m.\u001b[39msave(output_path)\n",
      "\n",
      "File \u001b[1;32mc:\\Users\\morea\\anaconda3\\Lib\\site-packages\\PIL\\Image.py:3247\u001b[0m, in \u001b[0;36mopen\u001b[1;34m(fp, mode, formats)\u001b[0m\n",
      "\u001b[0;32m   3244\u001b[0m     filename \u001b[38;5;241m=\u001b[39m fp\n",
      "\u001b[0;32m   3246\u001b[0m \u001b[38;5;28;01mif\u001b[39;00m filename:\n",
      "\u001b[1;32m-> 3247\u001b[0m     fp \u001b[38;5;241m=\u001b[39m builtins\u001b[38;5;241m.\u001b[39mopen(filename, \u001b[38;5;124m\"\u001b[39m\u001b[38;5;124mrb\u001b[39m\u001b[38;5;124m\"\u001b[39m)\n",
      "\u001b[0;32m   3248\u001b[0m     exclusive_fp \u001b[38;5;241m=\u001b[39m \u001b[38;5;28;01mTrue\u001b[39;00m\n",
      "\u001b[0;32m   3250\u001b[0m \u001b[38;5;28;01mtry\u001b[39;00m:\n",
      "\n",
      "\u001b[1;31mFileNotFoundError\u001b[0m: [Errno 2] No such file or directory: 'omg_compressed.jpg'"
     ]
    }
   ],
   "source": [
    "from rembg import remove \n",
    "\n",
    "from PIL import Image\n",
    "\n",
    "input_path = 'omg_compressed.jpg'\n",
    "output_path = 'omg_compressed.png'\n",
    "\n",
    "inp = Image.open(input_path)\n",
    "\n",
    "output = remove(inp)\n",
    "\n",
    "output.save(output_path)\n",
    "\n",
    "Image.open(\"omg_compressed.png\")"
   ]
  },
  {
   "cell_type": "code",
   "execution_count": null,
   "metadata": {},
   "outputs": [
    {
     "name": "stdout",
     "output_type": "stream",
     "text": [
      "Requirement already satisfied: rembg in c:\\users\\morea\\anaconda3\\lib\\site-packages (2.0.61)Note: you may need to restart the kernel to use updated packages.\n",
      "\n",
      "Requirement already satisfied: jsonschema in c:\\users\\morea\\anaconda3\\lib\\site-packages (from rembg) (4.19.2)\n",
      "Requirement already satisfied: numpy in c:\\users\\morea\\anaconda3\\lib\\site-packages (from rembg) (1.26.4)\n",
      "Requirement already satisfied: opencv-python-headless in c:\\users\\morea\\anaconda3\\lib\\site-packages (from rembg) (4.10.0.84)\n",
      "Requirement already satisfied: pillow in c:\\users\\morea\\anaconda3\\lib\\site-packages (from rembg) (10.2.0)\n",
      "Requirement already satisfied: pooch in c:\\users\\morea\\anaconda3\\lib\\site-packages (from rembg) (1.8.2)\n",
      "Requirement already satisfied: pymatting in c:\\users\\morea\\anaconda3\\lib\\site-packages (from rembg) (1.1.13)\n",
      "Requirement already satisfied: scikit-image in c:\\users\\morea\\anaconda3\\lib\\site-packages (from rembg) (0.22.0)\n",
      "Requirement already satisfied: scipy in c:\\users\\morea\\anaconda3\\lib\\site-packages (from rembg) (1.11.4)\n",
      "Requirement already satisfied: tqdm in c:\\users\\morea\\anaconda3\\lib\\site-packages (from rembg) (4.65.0)\n",
      "Requirement already satisfied: attrs>=22.2.0 in c:\\users\\morea\\anaconda3\\lib\\site-packages (from jsonschema->rembg) (23.1.0)\n",
      "Requirement already satisfied: jsonschema-specifications>=2023.03.6 in c:\\users\\morea\\anaconda3\\lib\\site-packages (from jsonschema->rembg) (2023.7.1)\n",
      "Requirement already satisfied: referencing>=0.28.4 in c:\\users\\morea\\anaconda3\\lib\\site-packages (from jsonschema->rembg) (0.30.2)\n",
      "Requirement already satisfied: rpds-py>=0.7.1 in c:\\users\\morea\\anaconda3\\lib\\site-packages (from jsonschema->rembg) (0.10.6)\n",
      "Requirement already satisfied: platformdirs>=2.5.0 in c:\\users\\morea\\anaconda3\\lib\\site-packages (from pooch->rembg) (3.10.0)\n",
      "Requirement already satisfied: packaging>=20.0 in c:\\users\\morea\\anaconda3\\lib\\site-packages (from pooch->rembg) (23.1)\n",
      "Requirement already satisfied: requests>=2.19.0 in c:\\users\\morea\\anaconda3\\lib\\site-packages (from pooch->rembg) (2.31.0)\n",
      "Requirement already satisfied: numba!=0.49.0 in c:\\users\\morea\\anaconda3\\lib\\site-packages (from pymatting->rembg) (0.59.0)\n",
      "Requirement already satisfied: networkx>=2.8 in c:\\users\\morea\\anaconda3\\lib\\site-packages (from scikit-image->rembg) (3.1)\n",
      "Requirement already satisfied: imageio>=2.27 in c:\\users\\morea\\anaconda3\\lib\\site-packages (from scikit-image->rembg) (2.33.1)\n",
      "Requirement already satisfied: tifffile>=2022.8.12 in c:\\users\\morea\\anaconda3\\lib\\site-packages (from scikit-image->rembg) (2023.4.12)\n",
      "Requirement already satisfied: lazy_loader>=0.3 in c:\\users\\morea\\anaconda3\\lib\\site-packages (from scikit-image->rembg) (0.3)\n",
      "Requirement already satisfied: colorama in c:\\users\\morea\\anaconda3\\lib\\site-packages (from tqdm->rembg) (0.4.6)\n",
      "Requirement already satisfied: llvmlite<0.43,>=0.42.0dev0 in c:\\users\\morea\\anaconda3\\lib\\site-packages (from numba!=0.49.0->pymatting->rembg) (0.42.0)\n",
      "Requirement already satisfied: charset-normalizer<4,>=2 in c:\\users\\morea\\anaconda3\\lib\\site-packages (from requests>=2.19.0->pooch->rembg) (2.0.4)\n",
      "Requirement already satisfied: idna<4,>=2.5 in c:\\users\\morea\\anaconda3\\lib\\site-packages (from requests>=2.19.0->pooch->rembg) (3.4)\n",
      "Requirement already satisfied: urllib3<3,>=1.21.1 in c:\\users\\morea\\anaconda3\\lib\\site-packages (from requests>=2.19.0->pooch->rembg) (2.0.7)\n",
      "Requirement already satisfied: certifi>=2017.4.17 in c:\\users\\morea\\anaconda3\\lib\\site-packages (from requests>=2.19.0->pooch->rembg) (2024.2.2)\n"
     ]
    }
   ],
   "source": [
    "pip install rembg \n"
   ]
  },
  {
   "cell_type": "code",
   "execution_count": null,
   "metadata": {},
   "outputs": [
    {
     "name": "stderr",
     "output_type": "stream",
     "text": [
      "c:\\Users\\morea\\anaconda3\\Lib\\site-packages\\paramiko\\transport.py:219: CryptographyDeprecationWarning: Blowfish has been deprecated and will be removed in a future release\n",
      "  \"class\": algorithms.Blowfish,\n"
     ]
    },
    {
     "ename": "FileNotFoundError",
     "evalue": "[Errno 2] No such file or directory: 'clgot.jpeg'",
     "output_type": "error",
     "traceback": [
      "\u001b[1;31m---------------------------------------------------------------------------\u001b[0m\n",
      "\u001b[1;31mFileNotFoundError\u001b[0m                         Traceback (most recent call last)\n",
      "Cell \u001b[1;32mIn[1], line 8\u001b[0m\n",
      "\u001b[0;32m      5\u001b[0m output_path \u001b[38;5;241m=\u001b[39m \u001b[38;5;124m'\u001b[39m\u001b[38;5;124mclgot.png\u001b[39m\u001b[38;5;124m'\u001b[39m\n",
      "\u001b[0;32m      7\u001b[0m \u001b[38;5;66;03m# Open the input image\u001b[39;00m\n",
      "\u001b[1;32m----> 8\u001b[0m inp \u001b[38;5;241m=\u001b[39m Image\u001b[38;5;241m.\u001b[39mopen(input_path)\n",
      "\u001b[0;32m     10\u001b[0m \u001b[38;5;66;03m# Remove the background\u001b[39;00m\n",
      "\u001b[0;32m     11\u001b[0m output \u001b[38;5;241m=\u001b[39m remove(inp)\n",
      "\n",
      "File \u001b[1;32mc:\\Users\\morea\\anaconda3\\Lib\\site-packages\\PIL\\Image.py:3247\u001b[0m, in \u001b[0;36mopen\u001b[1;34m(fp, mode, formats)\u001b[0m\n",
      "\u001b[0;32m   3244\u001b[0m     filename \u001b[38;5;241m=\u001b[39m fp\n",
      "\u001b[0;32m   3246\u001b[0m \u001b[38;5;28;01mif\u001b[39;00m filename:\n",
      "\u001b[1;32m-> 3247\u001b[0m     fp \u001b[38;5;241m=\u001b[39m builtins\u001b[38;5;241m.\u001b[39mopen(filename, \u001b[38;5;124m\"\u001b[39m\u001b[38;5;124mrb\u001b[39m\u001b[38;5;124m\"\u001b[39m)\n",
      "\u001b[0;32m   3248\u001b[0m     exclusive_fp \u001b[38;5;241m=\u001b[39m \u001b[38;5;28;01mTrue\u001b[39;00m\n",
      "\u001b[0;32m   3250\u001b[0m \u001b[38;5;28;01mtry\u001b[39;00m:\n",
      "\n",
      "\u001b[1;31mFileNotFoundError\u001b[0m: [Errno 2] No such file or directory: 'clgot.jpeg'"
     ]
    }
   ],
   "source": [
    "from rembg import remove\n",
    "from PIL import Image\n",
    "\n",
    "input_path = 'clgot.jpeg'\n",
    "output_path = 'clgot.png'\n",
    "\n",
    "# Open the input image\n",
    "inp = Image.open(input_path)\n",
    "\n",
    "# Remove the background\n",
    "output = remove(inp)\n",
    "\n",
    "# Save the result to the output path\n",
    "output.save(output_path)\n",
    "\n",
    "# Open the output image\n",
    "Image.open(output_path)\n"
   ]
  },
  {
   "cell_type": "code",
   "execution_count": null,
   "metadata": {},
   "outputs": [
    {
     "name": "stdout",
     "output_type": "stream",
     "text": [
      "Note: you may need to restart the kernel to use updated packages.Collecting onnxruntime-gpu\n",
      "  Downloading onnxruntime_gpu-1.20.1-cp311-cp311-win_amd64.whl.metadata (4.7 kB)\n",
      "Collecting coloredlogs (from onnxruntime-gpu)\n",
      "  Downloading coloredlogs-15.0.1-py2.py3-none-any.whl.metadata (12 kB)\n",
      "Collecting flatbuffers (from onnxruntime-gpu)\n",
      "  Downloading flatbuffers-24.12.23-py2.py3-none-any.whl.metadata (876 bytes)\n",
      "Requirement already satisfied: numpy>=1.21.6 in c:\\users\\morea\\anaconda3\\lib\\site-packages (from onnxruntime-gpu) (1.26.4)\n",
      "Requirement already satisfied: packaging in c:\\users\\morea\\anaconda3\\lib\\site-packages (from onnxruntime-gpu) (23.1)\n",
      "Requirement already satisfied: protobuf in c:\\users\\morea\\anaconda3\\lib\\site-packages (from onnxruntime-gpu) (3.20.3)\n",
      "Requirement already satisfied: sympy in c:\\users\\morea\\anaconda3\\lib\\site-packages (from onnxruntime-gpu) (1.12)\n",
      "Collecting humanfriendly>=9.1 (from coloredlogs->onnxruntime-gpu)\n",
      "  Downloading humanfriendly-10.0-py2.py3-none-any.whl.metadata (9.2 kB)\n",
      "Requirement already satisfied: mpmath>=0.19 in c:\\users\\morea\\anaconda3\\lib\\site-packages (from sympy->onnxruntime-gpu) (1.3.0)\n",
      "Collecting pyreadline3 (from humanfriendly>=9.1->coloredlogs->onnxruntime-gpu)\n",
      "  Downloading pyreadline3-3.5.4-py3-none-any.whl.metadata (4.7 kB)\n",
      "Downloading onnxruntime_gpu-1.20.1-cp311-cp311-win_amd64.whl (279.7 MB)\n",
      "   ---------------------------------------- 0.0/279.7 MB ? eta -:--:--\n",
      "   ---------------------------------------- 0.3/279.7 MB 9.9 MB/s eta 0:00:29\n",
      "   ---------------------------------------- 0.8/279.7 MB 9.8 MB/s eta 0:00:29\n",
      "   ---------------------------------------- 1.1/279.7 MB 9.0 MB/s eta 0:00:31\n",
      "   ---------------------------------------- 1.7/279.7 MB 9.7 MB/s eta 0:00:29\n",
      "   ---------------------------------------- 2.2/279.7 MB 10.1 MB/s eta 0:00:28\n",
      "   ---------------------------------------- 2.7/279.7 MB 10.2 MB/s eta 0:00:28\n",
      "   ---------------------------------------- 3.2/279.7 MB 10.2 MB/s eta 0:00:28\n",
      "    --------------------------------------- 3.8/279.7 MB 10.5 MB/s eta 0:00:27\n",
      "    --------------------------------------- 4.6/279.7 MB 10.8 MB/s eta 0:00:26\n",
      "    --------------------------------------- 5.2/279.7 MB 10.7 MB/s eta 0:00:26\n",
      "    --------------------------------------- 5.9/279.7 MB 10.8 MB/s eta 0:00:26\n",
      "    --------------------------------------- 6.5/279.7 MB 10.9 MB/s eta 0:00:25\n",
      "   - -------------------------------------- 7.3/279.7 MB 11.1 MB/s eta 0:00:25\n",
      "   - -------------------------------------- 8.1/279.7 MB 11.0 MB/s eta 0:00:25\n",
      "   - -------------------------------------- 8.7/279.7 MB 11.1 MB/s eta 0:00:25\n",
      "   - -------------------------------------- 9.2/279.7 MB 11.2 MB/s eta 0:00:25\n",
      "   - -------------------------------------- 9.8/279.7 MB 11.2 MB/s eta 0:00:25\n",
      "   - -------------------------------------- 10.6/279.7 MB 11.3 MB/s eta 0:00:24\n",
      "   - -------------------------------------- 11.1/279.7 MB 11.5 MB/s eta 0:00:24\n",
      "   - -------------------------------------- 11.6/279.7 MB 11.5 MB/s eta 0:00:24\n",
      "   - -------------------------------------- 12.1/279.7 MB 11.5 MB/s eta 0:00:24\n",
      "   - -------------------------------------- 12.3/279.7 MB 11.3 MB/s eta 0:00:24\n",
      "   - -------------------------------------- 13.2/279.7 MB 11.3 MB/s eta 0:00:24\n",
      "   - -------------------------------------- 13.9/279.7 MB 11.5 MB/s eta 0:00:24\n",
      "   -- ------------------------------------- 14.4/279.7 MB 11.3 MB/s eta 0:00:24\n",
      "   -- ------------------------------------- 15.1/279.7 MB 11.7 MB/s eta 0:00:23\n",
      "   -- ------------------------------------- 15.8/279.7 MB 11.7 MB/s eta 0:00:23\n",
      "   -- ------------------------------------- 16.5/279.7 MB 11.5 MB/s eta 0:00:23\n",
      "   -- ------------------------------------- 17.3/279.7 MB 11.7 MB/s eta 0:00:23\n",
      "   -- ------------------------------------- 17.9/279.7 MB 11.5 MB/s eta 0:00:23\n",
      "   -- ------------------------------------- 18.7/279.7 MB 11.5 MB/s eta 0:00:23\n",
      "   -- ------------------------------------- 19.3/279.7 MB 11.7 MB/s eta 0:00:23\n",
      "   -- ------------------------------------- 20.0/279.7 MB 11.7 MB/s eta 0:00:23\n",
      "   -- ------------------------------------- 20.6/279.7 MB 11.7 MB/s eta 0:00:23\n",
      "   --- ------------------------------------ 21.2/279.7 MB 11.5 MB/s eta 0:00:23\n",
      "   --- ------------------------------------ 22.1/279.7 MB 11.7 MB/s eta 0:00:23\n",
      "   --- ------------------------------------ 22.8/279.7 MB 12.1 MB/s eta 0:00:22\n",
      "   --- ------------------------------------ 23.6/279.7 MB 12.1 MB/s eta 0:00:22\n",
      "   --- ------------------------------------ 24.5/279.7 MB 11.9 MB/s eta 0:00:22\n",
      "   --- ------------------------------------ 25.6/279.7 MB 11.7 MB/s eta 0:00:22\n",
      "   --- ------------------------------------ 26.0/279.7 MB 11.3 MB/s eta 0:00:23\n",
      "   --- ------------------------------------ 27.2/279.7 MB 10.7 MB/s eta 0:00:24\n",
      "   ---- ----------------------------------- 28.1/279.7 MB 10.6 MB/s eta 0:00:24\n",
      "   ---- ----------------------------------- 28.6/279.7 MB 9.8 MB/s eta 0:00:26\n",
      "   ---- ----------------------------------- 30.0/279.7 MB 9.5 MB/s eta 0:00:27\n",
      "   ---- ----------------------------------- 30.5/279.7 MB 9.5 MB/s eta 0:00:27\n",
      "   ---- ----------------------------------- 31.0/279.7 MB 9.2 MB/s eta 0:00:27\n",
      "   ---- ----------------------------------- 31.9/279.7 MB 9.1 MB/s eta 0:00:28\n",
      "   ---- ----------------------------------- 32.6/279.7 MB 9.1 MB/s eta 0:00:28\n",
      "   ---- ----------------------------------- 33.7/279.7 MB 9.1 MB/s eta 0:00:28\n",
      "   ----- ---------------------------------- 35.0/279.7 MB 9.4 MB/s eta 0:00:27\n",
      "   ----- ---------------------------------- 36.1/279.7 MB 9.0 MB/s eta 0:00:28\n",
      "   ----- ---------------------------------- 36.8/279.7 MB 9.4 MB/s eta 0:00:26\n",
      "   ----- ---------------------------------- 37.2/279.7 MB 8.8 MB/s eta 0:00:28\n",
      "   ----- ---------------------------------- 37.4/279.7 MB 8.6 MB/s eta 0:00:29\n",
      "   ----- ---------------------------------- 37.8/279.7 MB 8.7 MB/s eta 0:00:28\n",
      "   ----- ---------------------------------- 38.5/279.7 MB 9.0 MB/s eta 0:00:27\n",
      "   ----- ---------------------------------- 39.0/279.7 MB 9.5 MB/s eta 0:00:26\n",
      "   ----- ---------------------------------- 39.2/279.7 MB 9.1 MB/s eta 0:00:27\n",
      "   ----- ---------------------------------- 40.0/279.7 MB 9.4 MB/s eta 0:00:26\n",
      "   ----- ---------------------------------- 40.3/279.7 MB 9.5 MB/s eta 0:00:26\n",
      "   ----- ---------------------------------- 40.6/279.7 MB 9.2 MB/s eta 0:00:26\n",
      "   ----- ---------------------------------- 40.9/279.7 MB 9.1 MB/s eta 0:00:27\n",
      "   ----- ---------------------------------- 41.2/279.7 MB 9.0 MB/s eta 0:00:27\n",
      "   ----- ---------------------------------- 41.5/279.7 MB 9.0 MB/s eta 0:00:27\n",
      "   ------ --------------------------------- 42.1/279.7 MB 8.7 MB/s eta 0:00:28\n",
      "   ------ --------------------------------- 42.6/279.7 MB 8.7 MB/s eta 0:00:28\n",
      "   ------ --------------------------------- 43.1/279.7 MB 8.7 MB/s eta 0:00:28\n",
      "   ------ --------------------------------- 43.7/279.7 MB 8.6 MB/s eta 0:00:28\n",
      "   ------ --------------------------------- 44.2/279.7 MB 8.4 MB/s eta 0:00:29\n",
      "   ------ --------------------------------- 44.7/279.7 MB 8.3 MB/s eta 0:00:29\n",
      "   ------ --------------------------------- 45.7/279.7 MB 8.1 MB/s eta 0:00:29\n",
      "   ------ --------------------------------- 46.4/279.7 MB 8.5 MB/s eta 0:00:28\n",
      "   ------ --------------------------------- 46.8/279.7 MB 8.5 MB/s eta 0:00:28\n",
      "   ------ --------------------------------- 47.3/279.7 MB 8.5 MB/s eta 0:00:28\n",
      "   ------ --------------------------------- 47.7/279.7 MB 8.7 MB/s eta 0:00:27\n",
      "   ------ --------------------------------- 48.1/279.7 MB 8.7 MB/s eta 0:00:27\n",
      "   ------ --------------------------------- 48.5/279.7 MB 8.6 MB/s eta 0:00:27\n",
      "   ------ --------------------------------- 48.9/279.7 MB 8.6 MB/s eta 0:00:27\n",
      "   ------- -------------------------------- 49.3/279.7 MB 8.5 MB/s eta 0:00:28\n",
      "   ------- -------------------------------- 49.6/279.7 MB 8.5 MB/s eta 0:00:28\n",
      "   ------- -------------------------------- 50.0/279.7 MB 8.3 MB/s eta 0:00:28\n",
      "   ------- -------------------------------- 50.4/279.7 MB 8.2 MB/s eta 0:00:29\n",
      "   ------- -------------------------------- 50.8/279.7 MB 8.5 MB/s eta 0:00:27\n",
      "   ------- -------------------------------- 51.4/279.7 MB 8.7 MB/s eta 0:00:27\n",
      "   ------- -------------------------------- 51.8/279.7 MB 8.8 MB/s eta 0:00:26\n",
      "   ------- -------------------------------- 52.1/279.7 MB 8.7 MB/s eta 0:00:27\n",
      "   ------- -------------------------------- 52.6/279.7 MB 8.6 MB/s eta 0:00:27\n",
      "   ------- -------------------------------- 53.4/279.7 MB 8.8 MB/s eta 0:00:26\n",
      "   ------- -------------------------------- 53.7/279.7 MB 8.7 MB/s eta 0:00:26\n",
      "   ------- -------------------------------- 54.3/279.7 MB 8.8 MB/s eta 0:00:26\n",
      "   ------- -------------------------------- 54.7/279.7 MB 8.8 MB/s eta 0:00:26\n",
      "   ------- -------------------------------- 55.3/279.7 MB 9.2 MB/s eta 0:00:25\n",
      "   ------- -------------------------------- 55.8/279.7 MB 9.0 MB/s eta 0:00:25\n",
      "   -------- ------------------------------- 56.3/279.7 MB 8.8 MB/s eta 0:00:26\n",
      "   -------- ------------------------------- 56.7/279.7 MB 9.0 MB/s eta 0:00:25\n",
      "   -------- ------------------------------- 57.4/279.7 MB 9.0 MB/s eta 0:00:25\n",
      "   -------- ------------------------------- 57.8/279.7 MB 9.0 MB/s eta 0:00:25\n",
      "   -------- ------------------------------- 58.2/279.7 MB 9.0 MB/s eta 0:00:25\n",
      "   -------- ------------------------------- 58.6/279.7 MB 9.0 MB/s eta 0:00:25\n",
      "   -------- ------------------------------- 59.1/279.7 MB 9.0 MB/s eta 0:00:25\n",
      "   -------- ------------------------------- 59.5/279.7 MB 9.1 MB/s eta 0:00:25\n",
      "   -------- ------------------------------- 60.0/279.7 MB 9.1 MB/s eta 0:00:25\n",
      "   -------- ------------------------------- 60.4/279.7 MB 9.1 MB/s eta 0:00:25\n",
      "   -------- ------------------------------- 61.0/279.7 MB 9.2 MB/s eta 0:00:24\n",
      "   -------- ------------------------------- 61.5/279.7 MB 9.1 MB/s eta 0:00:25\n",
      "   -------- ------------------------------- 61.9/279.7 MB 9.1 MB/s eta 0:00:24\n",
      "   -------- ------------------------------- 62.5/279.7 MB 9.6 MB/s eta 0:00:23\n",
      "   --------- ------------------------------ 63.0/279.7 MB 9.4 MB/s eta 0:00:24\n",
      "   --------- ------------------------------ 63.5/279.7 MB 9.2 MB/s eta 0:00:24\n",
      "   --------- ------------------------------ 63.9/279.7 MB 9.2 MB/s eta 0:00:24\n",
      "   --------- ------------------------------ 64.5/279.7 MB 9.4 MB/s eta 0:00:24\n",
      "   --------- ------------------------------ 65.0/279.7 MB 9.2 MB/s eta 0:00:24\n",
      "   --------- ------------------------------ 65.4/279.7 MB 9.2 MB/s eta 0:00:24\n",
      "   --------- ------------------------------ 65.8/279.7 MB 9.2 MB/s eta 0:00:24\n",
      "   --------- ------------------------------ 66.2/279.7 MB 9.4 MB/s eta 0:00:23\n",
      "   --------- ------------------------------ 66.6/279.7 MB 9.2 MB/s eta 0:00:24\n",
      "   --------- ------------------------------ 67.0/279.7 MB 9.1 MB/s eta 0:00:24\n",
      "   --------- ------------------------------ 67.5/279.7 MB 9.0 MB/s eta 0:00:24\n",
      "   --------- ------------------------------ 67.9/279.7 MB 9.2 MB/s eta 0:00:23\n",
      "   --------- ------------------------------ 68.4/279.7 MB 9.1 MB/s eta 0:00:24\n",
      "   --------- ------------------------------ 68.8/279.7 MB 9.1 MB/s eta 0:00:24\n",
      "   --------- ------------------------------ 69.3/279.7 MB 9.1 MB/s eta 0:00:24\n",
      "   ---------- ----------------------------- 70.1/279.7 MB 9.1 MB/s eta 0:00:24\n",
      "   ---------- ----------------------------- 70.6/279.7 MB 9.4 MB/s eta 0:00:23\n",
      "   ---------- ----------------------------- 71.3/279.7 MB 9.4 MB/s eta 0:00:23\n",
      "   ---------- ----------------------------- 71.9/279.7 MB 9.2 MB/s eta 0:00:23\n",
      "   ---------- ----------------------------- 72.4/279.7 MB 9.4 MB/s eta 0:00:23\n",
      "   ---------- ----------------------------- 72.9/279.7 MB 9.2 MB/s eta 0:00:23\n",
      "   ---------- ----------------------------- 73.4/279.7 MB 9.5 MB/s eta 0:00:22\n",
      "   ---------- ----------------------------- 73.8/279.7 MB 9.4 MB/s eta 0:00:23\n",
      "   ---------- ----------------------------- 74.2/279.7 MB 9.4 MB/s eta 0:00:22\n",
      "   ---------- ----------------------------- 74.7/279.7 MB 9.4 MB/s eta 0:00:22\n",
      "   ---------- ----------------------------- 75.3/279.7 MB 9.5 MB/s eta 0:00:22\n",
      "   ---------- ----------------------------- 75.9/279.7 MB 9.5 MB/s eta 0:00:22\n",
      "   ---------- ----------------------------- 76.4/279.7 MB 9.6 MB/s eta 0:00:22\n",
      "   ---------- ----------------------------- 76.9/279.7 MB 9.6 MB/s eta 0:00:22\n",
      "   ----------- ---------------------------- 77.5/279.7 MB 9.6 MB/s eta 0:00:21\n",
      "   ----------- ---------------------------- 77.9/279.7 MB 9.8 MB/s eta 0:00:21\n",
      "   ----------- ---------------------------- 78.4/279.7 MB 9.9 MB/s eta 0:00:21\n",
      "   ----------- ---------------------------- 78.9/279.7 MB 9.9 MB/s eta 0:00:21\n",
      "   ----------- ---------------------------- 79.4/279.7 MB 9.9 MB/s eta 0:00:21\n",
      "   ----------- ---------------------------- 80.1/279.7 MB 10.1 MB/s eta 0:00:20\n",
      "   ----------- ---------------------------- 80.7/279.7 MB 10.1 MB/s eta 0:00:20\n",
      "   ----------- ---------------------------- 81.3/279.7 MB 10.1 MB/s eta 0:00:20\n",
      "   ----------- ---------------------------- 81.8/279.7 MB 10.2 MB/s eta 0:00:20\n",
      "   ----------- ---------------------------- 82.1/279.7 MB 10.2 MB/s eta 0:00:20\n",
      "   ----------- ---------------------------- 82.6/279.7 MB 10.2 MB/s eta 0:00:20\n",
      "   ----------- ---------------------------- 83.1/279.7 MB 10.4 MB/s eta 0:00:19\n",
      "   ----------- ---------------------------- 83.5/279.7 MB 10.2 MB/s eta 0:00:20\n",
      "   ----------- ---------------------------- 83.9/279.7 MB 10.2 MB/s eta 0:00:20\n",
      "   ------------ --------------------------- 84.1/279.7 MB 9.9 MB/s eta 0:00:20\n",
      "   ------------ --------------------------- 84.1/279.7 MB 9.9 MB/s eta 0:00:20\n",
      "   ------------ --------------------------- 84.1/279.7 MB 9.9 MB/s eta 0:00:20\n",
      "   ------------ --------------------------- 84.1/279.7 MB 9.9 MB/s eta 0:00:20\n",
      "   ------------ --------------------------- 84.1/279.7 MB 9.9 MB/s eta 0:00:20\n",
      "   ------------ --------------------------- 84.1/279.7 MB 9.9 MB/s eta 0:00:20\n",
      "   ------------ --------------------------- 84.1/279.7 MB 9.9 MB/s eta 0:00:20\n",
      "   ------------ --------------------------- 84.1/279.7 MB 9.9 MB/s eta 0:00:20\n",
      "   ------------ --------------------------- 84.1/279.7 MB 9.9 MB/s eta 0:00:20\n",
      "   ------------ --------------------------- 84.1/279.7 MB 9.9 MB/s eta 0:00:20\n",
      "   ------------ --------------------------- 84.1/279.7 MB 9.9 MB/s eta 0:00:20\n",
      "   ------------ --------------------------- 84.1/279.7 MB 9.9 MB/s eta 0:00:20\n",
      "   ------------ --------------------------- 84.1/279.7 MB 9.9 MB/s eta 0:00:20\n",
      "   ------------ --------------------------- 84.1/279.7 MB 9.9 MB/s eta 0:00:20\n",
      "   ------------ --------------------------- 84.1/279.7 MB 9.9 MB/s eta 0:00:20\n",
      "   ------------ --------------------------- 84.1/279.7 MB 9.9 MB/s eta 0:00:20\n",
      "   ------------ --------------------------- 84.1/279.7 MB 9.9 MB/s eta 0:00:20\n",
      "   ------------ --------------------------- 84.1/279.7 MB 9.9 MB/s eta 0:00:20\n",
      "   ------------ --------------------------- 84.1/279.7 MB 9.9 MB/s eta 0:00:20\n",
      "   ------------ --------------------------- 84.3/279.7 MB 5.3 MB/s eta 0:00:37\n",
      "   ------------ --------------------------- 85.7/279.7 MB 5.6 MB/s eta 0:00:35\n",
      "   ------------ --------------------------- 86.1/279.7 MB 5.6 MB/s eta 0:00:35\n",
      "   ------------ --------------------------- 86.5/279.7 MB 5.5 MB/s eta 0:00:35\n",
      "   ------------ --------------------------- 87.0/279.7 MB 5.6 MB/s eta 0:00:35\n",
      "   ------------ --------------------------- 87.5/279.7 MB 5.6 MB/s eta 0:00:35\n",
      "   ------------ --------------------------- 88.0/279.7 MB 5.6 MB/s eta 0:00:35\n",
      "   ------------ --------------------------- 88.3/279.7 MB 5.5 MB/s eta 0:00:35\n",
      "   ------------ --------------------------- 88.7/279.7 MB 5.5 MB/s eta 0:00:35\n",
      "   ------------ --------------------------- 89.2/279.7 MB 5.5 MB/s eta 0:00:35\n",
      "   ------------ --------------------------- 89.3/279.7 MB 5.6 MB/s eta 0:00:35\n",
      "   ------------ --------------------------- 89.3/279.7 MB 5.6 MB/s eta 0:00:35\n",
      "   ------------ --------------------------- 89.7/279.7 MB 5.2 MB/s eta 0:00:37\n",
      "   ------------ --------------------------- 90.4/279.7 MB 5.4 MB/s eta 0:00:36\n",
      "   ------------- -------------------------- 91.0/279.7 MB 5.3 MB/s eta 0:00:36\n",
      "   ------------- -------------------------- 91.0/279.7 MB 5.3 MB/s eta 0:00:36\n",
      "   ------------- -------------------------- 91.6/279.7 MB 5.2 MB/s eta 0:00:36\n",
      "   ------------- -------------------------- 91.6/279.7 MB 5.2 MB/s eta 0:00:36\n",
      "   ------------- -------------------------- 91.9/279.7 MB 5.1 MB/s eta 0:00:38\n",
      "   ------------- -------------------------- 92.1/279.7 MB 5.1 MB/s eta 0:00:37\n",
      "   ------------- -------------------------- 92.3/279.7 MB 4.9 MB/s eta 0:00:39\n",
      "   ------------- -------------------------- 93.3/279.7 MB 5.1 MB/s eta 0:00:37\n",
      "   ------------- -------------------------- 94.2/279.7 MB 5.2 MB/s eta 0:00:36\n",
      "   ------------- -------------------------- 94.7/279.7 MB 9.6 MB/s eta 0:00:20\n",
      "   ------------- -------------------------- 95.1/279.7 MB 9.2 MB/s eta 0:00:21\n",
      "   ------------- -------------------------- 95.5/279.7 MB 9.1 MB/s eta 0:00:21\n",
      "   ------------- -------------------------- 96.1/279.7 MB 8.8 MB/s eta 0:00:21\n",
      "   ------------- -------------------------- 96.5/279.7 MB 9.0 MB/s eta 0:00:21\n",
      "   ------------- -------------------------- 96.9/279.7 MB 8.6 MB/s eta 0:00:22\n",
      "   ------------- -------------------------- 97.1/279.7 MB 8.5 MB/s eta 0:00:22\n",
      "   ------------- -------------------------- 97.6/279.7 MB 8.5 MB/s eta 0:00:22\n",
      "   ------------- -------------------------- 97.6/279.7 MB 8.5 MB/s eta 0:00:22\n",
      "   ------------- -------------------------- 97.6/279.7 MB 8.5 MB/s eta 0:00:22\n",
      "   ------------- -------------------------- 97.6/279.7 MB 8.5 MB/s eta 0:00:22\n",
      "   -------------- ------------------------- 98.0/279.7 MB 7.7 MB/s eta 0:00:24\n",
      "   -------------- ------------------------- 98.2/279.7 MB 7.4 MB/s eta 0:00:25\n",
      "   -------------- ------------------------- 98.2/279.7 MB 7.4 MB/s eta 0:00:25\n",
      "   -------------- ------------------------- 98.3/279.7 MB 7.2 MB/s eta 0:00:26\n",
      "   -------------- ------------------------- 98.6/279.7 MB 7.0 MB/s eta 0:00:26\n",
      "   -------------- ------------------------- 99.0/279.7 MB 7.0 MB/s eta 0:00:26\n",
      "   -------------- ------------------------- 99.0/279.7 MB 7.0 MB/s eta 0:00:26\n",
      "   -------------- ------------------------- 99.1/279.7 MB 6.6 MB/s eta 0:00:28\n",
      "   -------------- ------------------------- 99.1/279.7 MB 6.6 MB/s eta 0:00:28\n",
      "   -------------- ------------------------- 99.1/279.7 MB 6.6 MB/s eta 0:00:28\n",
      "   -------------- ------------------------- 99.3/279.7 MB 6.2 MB/s eta 0:00:30\n",
      "   -------------- ------------------------- 100.0/279.7 MB 6.5 MB/s eta 0:00:28\n",
      "   -------------- ------------------------- 100.2/279.7 MB 6.4 MB/s eta 0:00:29\n",
      "   -------------- ------------------------- 101.1/279.7 MB 6.4 MB/s eta 0:00:28\n",
      "   -------------- ------------------------- 101.5/279.7 MB 6.7 MB/s eta 0:00:27\n",
      "   -------------- ------------------------- 101.9/279.7 MB 6.6 MB/s eta 0:00:27\n",
      "   -------------- ------------------------- 102.2/279.7 MB 6.7 MB/s eta 0:00:27\n",
      "   -------------- ------------------------- 102.6/279.7 MB 6.8 MB/s eta 0:00:26\n",
      "   -------------- ------------------------- 103.1/279.7 MB 6.8 MB/s eta 0:00:26\n",
      "   -------------- ------------------------- 103.8/279.7 MB 6.7 MB/s eta 0:00:27\n",
      "   -------------- ------------------------- 103.9/279.7 MB 6.6 MB/s eta 0:00:27\n",
      "   -------------- ------------------------- 103.9/279.7 MB 6.6 MB/s eta 0:00:27\n",
      "   -------------- ------------------------- 103.9/279.7 MB 6.6 MB/s eta 0:00:27\n",
      "   -------------- ------------------------- 104.4/279.7 MB 6.0 MB/s eta 0:00:30\n",
      "   -------------- ------------------------- 104.8/279.7 MB 5.9 MB/s eta 0:00:30\n",
      "   --------------- ------------------------ 105.0/279.7 MB 5.9 MB/s eta 0:00:30\n",
      "   --------------- ------------------------ 105.1/279.7 MB 5.7 MB/s eta 0:00:31\n",
      "   --------------- ------------------------ 105.7/279.7 MB 5.7 MB/s eta 0:00:31\n",
      "   --------------- ------------------------ 106.7/279.7 MB 5.8 MB/s eta 0:00:30\n",
      "   --------------- ------------------------ 106.7/279.7 MB 5.8 MB/s eta 0:00:30\n",
      "   --------------- ------------------------ 107.5/279.7 MB 6.0 MB/s eta 0:00:29\n",
      "   --------------- ------------------------ 108.1/279.7 MB 6.5 MB/s eta 0:00:27\n",
      "   --------------- ------------------------ 108.9/279.7 MB 7.4 MB/s eta 0:00:24\n",
      "   --------------- ------------------------ 109.0/279.7 MB 7.4 MB/s eta 0:00:24\n",
      "   --------------- ------------------------ 109.8/279.7 MB 8.8 MB/s eta 0:00:20\n",
      "   --------------- ------------------------ 110.0/279.7 MB 8.6 MB/s eta 0:00:20\n",
      "   --------------- ------------------------ 110.0/279.7 MB 8.6 MB/s eta 0:00:20\n",
      "   --------------- ------------------------ 110.6/279.7 MB 8.4 MB/s eta 0:00:21\n",
      "   --------------- ------------------------ 110.6/279.7 MB 8.4 MB/s eta 0:00:21\n",
      "   --------------- ------------------------ 111.3/279.7 MB 8.0 MB/s eta 0:00:22\n",
      "   ---------------- ----------------------- 111.9/279.7 MB 8.4 MB/s eta 0:00:20\n",
      "   ---------------- ----------------------- 111.9/279.7 MB 8.4 MB/s eta 0:00:20\n",
      "   ---------------- ----------------------- 111.9/279.7 MB 8.4 MB/s eta 0:00:20\n",
      "   ---------------- ----------------------- 111.9/279.7 MB 8.4 MB/s eta 0:00:20\n",
      "   ---------------- ----------------------- 111.9/279.7 MB 8.4 MB/s eta 0:00:20\n",
      "   ---------------- ----------------------- 111.9/279.7 MB 8.4 MB/s eta 0:00:20\n",
      "   ---------------- ----------------------- 111.9/279.7 MB 8.4 MB/s eta 0:00:20\n",
      "   ---------------- ----------------------- 111.9/279.7 MB 8.4 MB/s eta 0:00:20\n",
      "   ---------------- ----------------------- 112.6/279.7 MB 6.7 MB/s eta 0:00:25\n",
      "   ---------------- ----------------------- 114.0/279.7 MB 7.0 MB/s eta 0:00:24\n",
      "   ---------------- ----------------------- 114.7/279.7 MB 8.1 MB/s eta 0:00:21\n",
      "   ---------------- ----------------------- 115.4/279.7 MB 8.5 MB/s eta 0:00:20\n",
      "   ---------------- ----------------------- 115.9/279.7 MB 8.2 MB/s eta 0:00:21\n",
      "   ---------------- ----------------------- 116.5/279.7 MB 8.3 MB/s eta 0:00:20\n",
      "   ---------------- ----------------------- 117.2/279.7 MB 8.6 MB/s eta 0:00:19\n",
      "   ---------------- ----------------------- 117.8/279.7 MB 8.4 MB/s eta 0:00:20\n",
      "   ---------------- ----------------------- 118.4/279.7 MB 8.5 MB/s eta 0:00:19\n",
      "   ----------------- ---------------------- 119.1/279.7 MB 8.5 MB/s eta 0:00:19\n",
      "   ----------------- ---------------------- 119.5/279.7 MB 8.4 MB/s eta 0:00:20\n",
      "   ----------------- ---------------------- 120.0/279.7 MB 8.2 MB/s eta 0:00:20\n",
      "   ----------------- ---------------------- 120.4/279.7 MB 8.7 MB/s eta 0:00:19\n",
      "   ----------------- ---------------------- 120.9/279.7 MB 9.0 MB/s eta 0:00:18\n",
      "   ----------------- ---------------------- 121.4/279.7 MB 8.8 MB/s eta 0:00:18\n",
      "   ----------------- ---------------------- 122.1/279.7 MB 8.6 MB/s eta 0:00:19\n",
      "   ----------------- --------------------- 122.9/279.7 MB 11.9 MB/s eta 0:00:14\n",
      "   ----------------- --------------------- 123.5/279.7 MB 11.3 MB/s eta 0:00:14\n",
      "   ----------------- --------------------- 123.9/279.7 MB 10.9 MB/s eta 0:00:15\n",
      "   ----------------- --------------------- 124.4/279.7 MB 10.6 MB/s eta 0:00:15\n",
      "   ----------------- --------------------- 124.9/279.7 MB 10.2 MB/s eta 0:00:16\n",
      "   ----------------- --------------------- 125.2/279.7 MB 10.1 MB/s eta 0:00:16\n",
      "   ----------------- --------------------- 125.7/279.7 MB 10.1 MB/s eta 0:00:16\n",
      "   ----------------- --------------------- 126.1/279.7 MB 10.1 MB/s eta 0:00:16\n",
      "   ------------------ --------------------- 126.5/279.7 MB 9.8 MB/s eta 0:00:16\n",
      "   ------------------ --------------------- 126.9/279.7 MB 9.6 MB/s eta 0:00:16\n",
      "   ------------------ --------------------- 127.2/279.7 MB 9.5 MB/s eta 0:00:17\n",
      "   ------------------ --------------------- 127.7/279.7 MB 9.4 MB/s eta 0:00:17\n",
      "   ------------------ --------------------- 128.2/279.7 MB 9.4 MB/s eta 0:00:17\n",
      "   ------------------ --------------------- 128.9/279.7 MB 9.4 MB/s eta 0:00:17\n",
      "   ------------------ --------------------- 129.5/279.7 MB 9.4 MB/s eta 0:00:17\n",
      "   ------------------ --------------------- 130.3/279.7 MB 9.5 MB/s eta 0:00:16\n",
      "   ------------------ --------------------- 130.8/279.7 MB 9.6 MB/s eta 0:00:16\n",
      "   ------------------ --------------------- 131.4/279.7 MB 9.6 MB/s eta 0:00:16\n",
      "   ------------------ --------------------- 132.0/279.7 MB 9.6 MB/s eta 0:00:16\n",
      "   ------------------ --------------------- 132.7/279.7 MB 9.8 MB/s eta 0:00:16\n",
      "   ------------------- -------------------- 133.4/279.7 MB 9.8 MB/s eta 0:00:15\n",
      "   ------------------- -------------------- 134.2/279.7 MB 9.9 MB/s eta 0:00:15\n",
      "   ------------------ -------------------- 134.9/279.7 MB 10.2 MB/s eta 0:00:15\n",
      "   ------------------ -------------------- 135.6/279.7 MB 10.6 MB/s eta 0:00:14\n",
      "   ------------------ -------------------- 135.9/279.7 MB 10.7 MB/s eta 0:00:14\n",
      "   ------------------- ------------------- 136.8/279.7 MB 10.9 MB/s eta 0:00:14\n",
      "   ------------------- ------------------- 137.3/279.7 MB 11.1 MB/s eta 0:00:13\n",
      "   ------------------- ------------------- 137.9/279.7 MB 11.5 MB/s eta 0:00:13\n",
      "   ------------------- ------------------- 138.4/279.7 MB 11.5 MB/s eta 0:00:13\n",
      "   ------------------- ------------------- 139.0/279.7 MB 11.7 MB/s eta 0:00:13\n",
      "   ------------------- ------------------- 139.7/279.7 MB 11.7 MB/s eta 0:00:12\n",
      "   ------------------- ------------------- 140.5/279.7 MB 11.7 MB/s eta 0:00:12\n",
      "   ------------------- ------------------- 141.2/279.7 MB 11.7 MB/s eta 0:00:12\n",
      "   ------------------- ------------------- 141.9/279.7 MB 11.7 MB/s eta 0:00:12\n",
      "   ------------------- ------------------- 142.7/279.7 MB 11.7 MB/s eta 0:00:12\n",
      "   ------------------- ------------------- 143.1/279.7 MB 11.5 MB/s eta 0:00:12\n",
      "   -------------------- ------------------ 144.1/279.7 MB 11.7 MB/s eta 0:00:12\n",
      "   -------------------- ------------------ 145.0/279.7 MB 11.5 MB/s eta 0:00:12\n",
      "   -------------------- ------------------ 146.1/279.7 MB 11.5 MB/s eta 0:00:12\n",
      "   -------------------- ------------------ 146.8/279.7 MB 11.3 MB/s eta 0:00:12\n",
      "   -------------------- ------------------ 147.4/279.7 MB 11.3 MB/s eta 0:00:12\n",
      "   -------------------- ------------------ 148.0/279.7 MB 11.3 MB/s eta 0:00:12\n",
      "   -------------------- ------------------ 148.5/279.7 MB 11.1 MB/s eta 0:00:12\n",
      "   -------------------- ------------------ 149.1/279.7 MB 10.9 MB/s eta 0:00:12\n",
      "   -------------------- ------------------ 149.5/279.7 MB 11.1 MB/s eta 0:00:12\n",
      "   -------------------- ------------------ 150.0/279.7 MB 10.9 MB/s eta 0:00:12\n",
      "   -------------------- ------------------ 150.6/279.7 MB 10.4 MB/s eta 0:00:13\n",
      "   --------------------- ----------------- 151.0/279.7 MB 10.4 MB/s eta 0:00:13\n",
      "   --------------------- ----------------- 151.6/279.7 MB 10.2 MB/s eta 0:00:13\n",
      "   --------------------- ----------------- 152.2/279.7 MB 10.2 MB/s eta 0:00:13\n",
      "   --------------------- ----------------- 152.8/279.7 MB 10.1 MB/s eta 0:00:13\n",
      "   --------------------- ----------------- 153.4/279.7 MB 10.2 MB/s eta 0:00:13\n",
      "   ---------------------- ----------------- 154.0/279.7 MB 9.9 MB/s eta 0:00:13\n",
      "   ---------------------- ----------------- 154.6/279.7 MB 9.8 MB/s eta 0:00:13\n",
      "   ---------------------- ----------------- 155.3/279.7 MB 9.8 MB/s eta 0:00:13\n",
      "   ---------------------- ----------------- 155.8/279.7 MB 9.6 MB/s eta 0:00:13\n",
      "   ---------------------- ----------------- 156.4/279.7 MB 9.6 MB/s eta 0:00:13\n",
      "   ---------------------- ----------------- 157.0/279.7 MB 9.6 MB/s eta 0:00:13\n",
      "   ---------------------- ----------------- 157.1/279.7 MB 9.4 MB/s eta 0:00:14\n",
      "   ---------------------- ----------------- 157.8/279.7 MB 9.2 MB/s eta 0:00:14\n",
      "   ---------------------- ----------------- 158.4/279.7 MB 9.2 MB/s eta 0:00:14\n",
      "   ---------------------- ----------------- 158.7/279.7 MB 9.1 MB/s eta 0:00:14\n",
      "   ---------------------- ----------------- 159.1/279.7 MB 9.0 MB/s eta 0:00:14\n",
      "   ---------------------- ----------------- 159.7/279.7 MB 9.0 MB/s eta 0:00:14\n",
      "   ---------------------- ----------------- 160.3/279.7 MB 9.2 MB/s eta 0:00:13\n",
      "   ---------------------- ----------------- 160.7/279.7 MB 9.1 MB/s eta 0:00:14\n",
      "   ----------------------- ---------------- 161.1/279.7 MB 9.2 MB/s eta 0:00:13\n",
      "   ----------------------- ---------------- 161.5/279.7 MB 9.0 MB/s eta 0:00:14\n",
      "   ----------------------- ---------------- 161.8/279.7 MB 8.8 MB/s eta 0:00:14\n",
      "   ----------------------- ---------------- 162.5/279.7 MB 8.8 MB/s eta 0:00:14\n",
      "   ----------------------- ---------------- 163.0/279.7 MB 9.0 MB/s eta 0:00:14\n",
      "   ----------------------- ---------------- 163.5/279.7 MB 9.0 MB/s eta 0:00:13\n",
      "   ----------------------- ---------------- 164.1/279.7 MB 8.8 MB/s eta 0:00:14\n",
      "   ----------------------- ---------------- 164.6/279.7 MB 8.7 MB/s eta 0:00:14\n",
      "   ----------------------- ---------------- 165.2/279.7 MB 8.7 MB/s eta 0:00:14\n",
      "   ----------------------- ---------------- 166.0/279.7 MB 8.8 MB/s eta 0:00:13\n",
      "   ----------------------- ---------------- 166.6/279.7 MB 8.8 MB/s eta 0:00:13\n",
      "   ----------------------- ---------------- 167.0/279.7 MB 8.8 MB/s eta 0:00:13\n",
      "   ----------------------- ---------------- 167.7/279.7 MB 9.1 MB/s eta 0:00:13\n",
      "   ------------------------ --------------- 168.3/279.7 MB 9.0 MB/s eta 0:00:13\n",
      "   ------------------------ --------------- 168.9/279.7 MB 9.2 MB/s eta 0:00:13\n",
      "   ------------------------ --------------- 169.7/279.7 MB 9.2 MB/s eta 0:00:12\n",
      "   ------------------------ --------------- 170.3/279.7 MB 9.4 MB/s eta 0:00:12\n",
      "   ------------------------ --------------- 170.8/279.7 MB 9.4 MB/s eta 0:00:12\n",
      "   ------------------------ --------------- 171.8/279.7 MB 9.5 MB/s eta 0:00:12\n",
      "   ------------------------ --------------- 172.8/279.7 MB 9.8 MB/s eta 0:00:11\n",
      "   ------------------------ --------------- 173.5/279.7 MB 9.6 MB/s eta 0:00:12\n",
      "   ------------------------ --------------- 174.6/279.7 MB 9.8 MB/s eta 0:00:11\n",
      "   ------------------------- -------------- 175.3/279.7 MB 9.9 MB/s eta 0:00:11\n",
      "   ------------------------- -------------- 176.1/279.7 MB 9.9 MB/s eta 0:00:11\n",
      "   ------------------------ -------------- 176.9/279.7 MB 10.1 MB/s eta 0:00:11\n",
      "   ------------------------ -------------- 177.5/279.7 MB 10.1 MB/s eta 0:00:11\n",
      "   ------------------------- ------------- 179.5/279.7 MB 10.2 MB/s eta 0:00:10\n",
      "   ------------------------- ------------- 180.2/279.7 MB 10.4 MB/s eta 0:00:10\n",
      "   ------------------------- ------------- 180.2/279.7 MB 10.4 MB/s eta 0:00:10\n",
      "   ------------------------- ------------- 180.2/279.7 MB 10.4 MB/s eta 0:00:10\n",
      "   ------------------------- ------------- 180.2/279.7 MB 10.4 MB/s eta 0:00:10\n",
      "   ------------------------- -------------- 181.2/279.7 MB 9.2 MB/s eta 0:00:11\n",
      "   ------------------------- -------------- 181.7/279.7 MB 9.4 MB/s eta 0:00:11\n",
      "   ------------------------- -------------- 181.7/279.7 MB 9.4 MB/s eta 0:00:11\n",
      "   -------------------------- ------------- 181.9/279.7 MB 8.8 MB/s eta 0:00:12\n",
      "   -------------------------- ------------- 182.4/279.7 MB 8.8 MB/s eta 0:00:11\n",
      "   -------------------------- ------------- 183.5/279.7 MB 9.1 MB/s eta 0:00:11\n",
      "   -------------------------- ------------- 183.9/279.7 MB 9.1 MB/s eta 0:00:11\n",
      "   -------------------------- ------------- 184.4/279.7 MB 9.1 MB/s eta 0:00:11\n",
      "   -------------------------- ------------- 184.8/279.7 MB 9.1 MB/s eta 0:00:11\n",
      "   -------------------------- ------------- 185.1/279.7 MB 9.0 MB/s eta 0:00:11\n",
      "   -------------------------- ------------- 185.7/279.7 MB 9.1 MB/s eta 0:00:11\n",
      "   -------------------------- ------------- 186.4/279.7 MB 9.1 MB/s eta 0:00:11\n",
      "   -------------------------- ------------- 186.9/279.7 MB 9.1 MB/s eta 0:00:11\n",
      "   -------------------------- ------------- 187.4/279.7 MB 9.0 MB/s eta 0:00:11\n",
      "   -------------------------- ------------- 187.9/279.7 MB 9.1 MB/s eta 0:00:11\n",
      "   -------------------------- ------------- 188.4/279.7 MB 9.0 MB/s eta 0:00:11\n",
      "   --------------------------- ------------ 188.9/279.7 MB 9.0 MB/s eta 0:00:11\n",
      "   --------------------------- ------------ 189.4/279.7 MB 9.0 MB/s eta 0:00:11\n",
      "   --------------------------- ------------ 190.1/279.7 MB 9.0 MB/s eta 0:00:10\n",
      "   -------------------------- ------------ 190.6/279.7 MB 10.7 MB/s eta 0:00:09\n",
      "   -------------------------- ------------ 191.1/279.7 MB 10.4 MB/s eta 0:00:09\n",
      "   -------------------------- ------------ 191.6/279.7 MB 10.1 MB/s eta 0:00:09\n",
      "   -------------------------- ------------ 192.3/279.7 MB 11.1 MB/s eta 0:00:08\n",
      "   -------------------------- ------------ 193.0/279.7 MB 10.9 MB/s eta 0:00:08\n",
      "   -------------------------- ------------ 193.5/279.7 MB 10.6 MB/s eta 0:00:09\n",
      "   --------------------------- ----------- 194.1/279.7 MB 10.6 MB/s eta 0:00:09\n",
      "   --------------------------- ----------- 194.6/279.7 MB 10.7 MB/s eta 0:00:08\n",
      "   --------------------------- ----------- 195.1/279.7 MB 10.7 MB/s eta 0:00:08\n",
      "   --------------------------- ----------- 195.6/279.7 MB 10.7 MB/s eta 0:00:08\n",
      "   --------------------------- ----------- 196.5/279.7 MB 10.9 MB/s eta 0:00:08\n",
      "   --------------------------- ----------- 197.2/279.7 MB 10.9 MB/s eta 0:00:08\n",
      "   --------------------------- ----------- 197.8/279.7 MB 10.9 MB/s eta 0:00:08\n",
      "   --------------------------- ----------- 198.5/279.7 MB 10.7 MB/s eta 0:00:08\n",
      "   --------------------------- ----------- 199.0/279.7 MB 10.9 MB/s eta 0:00:08\n",
      "   --------------------------- ----------- 199.5/279.7 MB 10.7 MB/s eta 0:00:08\n",
      "   --------------------------- ----------- 200.1/279.7 MB 10.7 MB/s eta 0:00:08\n",
      "   --------------------------- ----------- 200.7/279.7 MB 10.7 MB/s eta 0:00:08\n",
      "   ---------------------------- ---------- 201.2/279.7 MB 10.7 MB/s eta 0:00:08\n",
      "   ---------------------------- ---------- 201.9/279.7 MB 10.9 MB/s eta 0:00:08\n",
      "   ---------------------------- ---------- 202.6/279.7 MB 10.7 MB/s eta 0:00:08\n",
      "   ---------------------------- ---------- 203.1/279.7 MB 10.4 MB/s eta 0:00:08\n",
      "   ---------------------------- ---------- 203.6/279.7 MB 10.2 MB/s eta 0:00:08\n",
      "   ---------------------------- ---------- 204.0/279.7 MB 10.2 MB/s eta 0:00:08\n",
      "   ---------------------------- ---------- 204.7/279.7 MB 10.2 MB/s eta 0:00:08\n",
      "   ---------------------------- ---------- 205.1/279.7 MB 10.2 MB/s eta 0:00:08\n",
      "   ----------------------------- ---------- 205.3/279.7 MB 9.8 MB/s eta 0:00:08\n",
      "   ----------------------------- ---------- 205.8/279.7 MB 9.9 MB/s eta 0:00:08\n",
      "   ----------------------------- ---------- 206.3/279.7 MB 9.9 MB/s eta 0:00:08\n",
      "   ----------------------------- ---------- 206.9/279.7 MB 9.9 MB/s eta 0:00:08\n",
      "   ----------------------------- ---------- 207.3/279.7 MB 9.8 MB/s eta 0:00:08\n",
      "   ----------------------------- ---------- 207.8/279.7 MB 9.9 MB/s eta 0:00:08\n",
      "   ----------------------------- ---------- 208.2/279.7 MB 9.8 MB/s eta 0:00:08\n",
      "   ----------------------------- --------- 208.7/279.7 MB 10.1 MB/s eta 0:00:08\n",
      "   ----------------------------- ---------- 209.3/279.7 MB 9.9 MB/s eta 0:00:08\n",
      "   ------------------------------ --------- 209.9/279.7 MB 9.8 MB/s eta 0:00:08\n",
      "   ------------------------------ --------- 210.5/279.7 MB 9.8 MB/s eta 0:00:08\n",
      "   ------------------------------ --------- 211.0/279.7 MB 9.8 MB/s eta 0:00:08\n",
      "   ----------------------------- --------- 211.5/279.7 MB 10.1 MB/s eta 0:00:07\n",
      "   ------------------------------ --------- 212.0/279.7 MB 9.9 MB/s eta 0:00:07\n",
      "   ------------------------------ --------- 212.6/279.7 MB 9.9 MB/s eta 0:00:07\n",
      "   ----------------------------- --------- 213.1/279.7 MB 10.2 MB/s eta 0:00:07\n",
      "   ----------------------------- --------- 213.7/279.7 MB 10.6 MB/s eta 0:00:07\n",
      "   ----------------------------- --------- 213.8/279.7 MB 10.6 MB/s eta 0:00:07\n",
      "   ----------------------------- --------- 213.8/279.7 MB 10.6 MB/s eta 0:00:07\n",
      "   ----------------------------- --------- 213.8/279.7 MB 10.6 MB/s eta 0:00:07\n",
      "   ----------------------------- --------- 213.8/279.7 MB 10.6 MB/s eta 0:00:07\n",
      "   ----------------------------- --------- 213.8/279.7 MB 10.6 MB/s eta 0:00:07\n",
      "   ----------------------------- --------- 213.8/279.7 MB 10.6 MB/s eta 0:00:07\n",
      "   ----------------------------- --------- 213.8/279.7 MB 10.6 MB/s eta 0:00:07\n",
      "   ----------------------------- --------- 213.8/279.7 MB 10.6 MB/s eta 0:00:07\n",
      "   ----------------------------- --------- 213.8/279.7 MB 10.6 MB/s eta 0:00:07\n",
      "   ----------------------------- --------- 213.8/279.7 MB 10.6 MB/s eta 0:00:07\n",
      "   ----------------------------- --------- 213.8/279.7 MB 10.6 MB/s eta 0:00:07\n",
      "   ----------------------------- --------- 213.8/279.7 MB 10.6 MB/s eta 0:00:07\n",
      "   ----------------------------- --------- 213.8/279.7 MB 10.6 MB/s eta 0:00:07\n",
      "   ------------------------------ --------- 214.3/279.7 MB 6.4 MB/s eta 0:00:11\n",
      "   ------------------------------ --------- 215.4/279.7 MB 6.8 MB/s eta 0:00:10\n",
      "   ------------------------------ --------- 215.4/279.7 MB 6.8 MB/s eta 0:00:10\n",
      "   ------------------------------ --------- 215.4/279.7 MB 6.8 MB/s eta 0:00:10\n",
      "   ------------------------------ --------- 216.3/279.7 MB 6.4 MB/s eta 0:00:10\n",
      "   ------------------------------ --------- 216.3/279.7 MB 6.4 MB/s eta 0:00:10\n",
      "   ------------------------------- -------- 217.3/279.7 MB 6.5 MB/s eta 0:00:10\n",
      "   ------------------------------- -------- 217.3/279.7 MB 6.5 MB/s eta 0:00:10\n",
      "   ------------------------------- -------- 217.6/279.7 MB 6.2 MB/s eta 0:00:11\n",
      "   ------------------------------- -------- 217.7/279.7 MB 6.2 MB/s eta 0:00:11\n",
      "   ------------------------------- -------- 217.7/279.7 MB 6.2 MB/s eta 0:00:11\n",
      "   ------------------------------- -------- 218.0/279.7 MB 5.9 MB/s eta 0:00:11\n",
      "   ------------------------------- -------- 218.0/279.7 MB 5.9 MB/s eta 0:00:11\n",
      "   ------------------------------- -------- 218.2/279.7 MB 5.6 MB/s eta 0:00:11\n",
      "   ------------------------------- -------- 218.8/279.7 MB 5.7 MB/s eta 0:00:11\n",
      "   ------------------------------- -------- 218.8/279.7 MB 5.7 MB/s eta 0:00:11\n",
      "   ------------------------------- -------- 219.0/279.7 MB 5.5 MB/s eta 0:00:12\n",
      "   ------------------------------- -------- 219.9/279.7 MB 5.5 MB/s eta 0:00:11\n",
      "   ------------------------------- -------- 219.9/279.7 MB 5.5 MB/s eta 0:00:11\n",
      "   ------------------------------- -------- 220.3/279.7 MB 5.4 MB/s eta 0:00:11\n",
      "   ------------------------------- -------- 221.0/279.7 MB 5.4 MB/s eta 0:00:11\n",
      "   ------------------------------- -------- 221.2/279.7 MB 5.4 MB/s eta 0:00:11\n",
      "   ------------------------------- -------- 221.4/279.7 MB 5.2 MB/s eta 0:00:12\n",
      "   ------------------------------- -------- 221.7/279.7 MB 5.2 MB/s eta 0:00:12\n",
      "   ------------------------------- -------- 221.7/279.7 MB 5.2 MB/s eta 0:00:12\n",
      "   ------------------------------- -------- 222.2/279.7 MB 5.0 MB/s eta 0:00:12\n",
      "   ------------------------------- -------- 223.0/279.7 MB 5.2 MB/s eta 0:00:11\n",
      "   ------------------------------- -------- 223.0/279.7 MB 5.2 MB/s eta 0:00:11\n",
      "   ------------------------------- -------- 223.5/279.7 MB 5.0 MB/s eta 0:00:12\n",
      "   -------------------------------- ------- 224.0/279.7 MB 5.0 MB/s eta 0:00:12\n",
      "   -------------------------------- ------- 224.3/279.7 MB 7.1 MB/s eta 0:00:08\n",
      "   -------------------------------- ------- 224.4/279.7 MB 7.0 MB/s eta 0:00:08\n",
      "   -------------------------------- ------- 224.4/279.7 MB 7.0 MB/s eta 0:00:08\n",
      "   -------------------------------- ------- 224.8/279.7 MB 6.7 MB/s eta 0:00:09\n",
      "   -------------------------------- ------- 225.3/279.7 MB 6.5 MB/s eta 0:00:09\n",
      "   -------------------------------- ------- 225.3/279.7 MB 6.4 MB/s eta 0:00:09\n",
      "   -------------------------------- ------- 225.3/279.7 MB 6.4 MB/s eta 0:00:09\n",
      "   -------------------------------- ------- 226.1/279.7 MB 6.7 MB/s eta 0:00:09\n",
      "   -------------------------------- ------- 227.0/279.7 MB 6.7 MB/s eta 0:00:08\n",
      "   -------------------------------- ------- 227.1/279.7 MB 6.7 MB/s eta 0:00:08\n",
      "   -------------------------------- ------- 227.7/279.7 MB 6.9 MB/s eta 0:00:08\n",
      "   -------------------------------- ------- 227.7/279.7 MB 6.9 MB/s eta 0:00:08\n",
      "   -------------------------------- ------- 227.7/279.7 MB 6.9 MB/s eta 0:00:08\n",
      "   -------------------------------- ------- 227.9/279.7 MB 6.3 MB/s eta 0:00:09\n",
      "   -------------------------------- ------- 228.2/279.7 MB 6.7 MB/s eta 0:00:08\n",
      "   -------------------------------- ------- 228.3/279.7 MB 6.9 MB/s eta 0:00:08\n",
      "   -------------------------------- ------- 228.7/279.7 MB 6.7 MB/s eta 0:00:08\n",
      "   -------------------------------- ------- 229.2/279.7 MB 7.1 MB/s eta 0:00:08\n",
      "   -------------------------------- ------- 229.7/279.7 MB 7.1 MB/s eta 0:00:08\n",
      "   -------------------------------- ------- 230.6/279.7 MB 7.3 MB/s eta 0:00:07\n",
      "   --------------------------------- ------ 231.5/279.7 MB 7.8 MB/s eta 0:00:07\n",
      "   --------------------------------- ------ 231.9/279.7 MB 7.6 MB/s eta 0:00:07\n",
      "   --------------------------------- ------ 232.0/279.7 MB 8.0 MB/s eta 0:00:06\n",
      "   --------------------------------- ------ 232.1/279.7 MB 7.8 MB/s eta 0:00:07\n",
      "   --------------------------------- ------ 232.1/279.7 MB 7.8 MB/s eta 0:00:07\n",
      "   --------------------------------- ------ 232.3/279.7 MB 7.4 MB/s eta 0:00:07\n",
      "   --------------------------------- ------ 232.5/279.7 MB 7.1 MB/s eta 0:00:07\n",
      "   --------------------------------- ------ 232.7/279.7 MB 6.8 MB/s eta 0:00:07\n",
      "   --------------------------------- ------ 234.0/279.7 MB 7.4 MB/s eta 0:00:07\n",
      "   --------------------------------- ------ 234.2/279.7 MB 7.2 MB/s eta 0:00:07\n",
      "   --------------------------------- ------ 234.8/279.7 MB 7.9 MB/s eta 0:00:06\n",
      "   --------------------------------- ------ 235.0/279.7 MB 7.6 MB/s eta 0:00:06\n",
      "   --------------------------------- ------ 236.0/279.7 MB 8.4 MB/s eta 0:00:06\n",
      "   --------------------------------- ------ 236.5/279.7 MB 8.4 MB/s eta 0:00:06\n",
      "   --------------------------------- ------ 237.2/279.7 MB 8.4 MB/s eta 0:00:06\n",
      "   --------------------------------- ------ 237.2/279.7 MB 8.4 MB/s eta 0:00:06\n",
      "   ---------------------------------- ----- 237.8/279.7 MB 8.2 MB/s eta 0:00:06\n",
      "   ---------------------------------- ----- 238.9/279.7 MB 9.9 MB/s eta 0:00:05\n",
      "   --------------------------------- ----- 239.0/279.7 MB 10.2 MB/s eta 0:00:04\n",
      "   ---------------------------------- ----- 239.4/279.7 MB 9.5 MB/s eta 0:00:05\n",
      "   --------------------------------- ----- 240.2/279.7 MB 10.4 MB/s eta 0:00:04\n",
      "   ---------------------------------- ----- 240.9/279.7 MB 9.6 MB/s eta 0:00:05\n",
      "   ---------------------------------- ----- 241.1/279.7 MB 9.6 MB/s eta 0:00:05\n",
      "   ---------------------------------- ----- 242.2/279.7 MB 9.8 MB/s eta 0:00:04\n",
      "   --------------------------------- ----- 242.5/279.7 MB 11.3 MB/s eta 0:00:04\n",
      "   --------------------------------- ----- 243.4/279.7 MB 12.1 MB/s eta 0:00:03\n",
      "   --------------------------------- ----- 243.7/279.7 MB 11.7 MB/s eta 0:00:04\n",
      "   ---------------------------------- ---- 244.0/279.7 MB 11.1 MB/s eta 0:00:04\n",
      "   ---------------------------------- ---- 244.7/279.7 MB 11.7 MB/s eta 0:00:03\n",
      "   ---------------------------------- ---- 244.7/279.7 MB 11.7 MB/s eta 0:00:03\n",
      "   ---------------------------------- ---- 244.7/279.7 MB 11.7 MB/s eta 0:00:03\n",
      "   ---------------------------------- ---- 245.1/279.7 MB 10.9 MB/s eta 0:00:04\n",
      "   ---------------------------------- ---- 245.1/279.7 MB 10.9 MB/s eta 0:00:04\n",
      "   ---------------------------------- ---- 245.1/279.7 MB 10.9 MB/s eta 0:00:04\n",
      "   ---------------------------------- ---- 245.1/279.7 MB 10.9 MB/s eta 0:00:04\n",
      "   ---------------------------------- ---- 245.1/279.7 MB 10.9 MB/s eta 0:00:04\n",
      "   ---------------------------------- ---- 245.1/279.7 MB 10.9 MB/s eta 0:00:04\n",
      "   ---------------------------------- ---- 245.1/279.7 MB 10.9 MB/s eta 0:00:04\n",
      "   ---------------------------------- ---- 245.1/279.7 MB 10.9 MB/s eta 0:00:04\n",
      "   ---------------------------------- ---- 245.1/279.7 MB 10.9 MB/s eta 0:00:04\n",
      "   ---------------------------------- ---- 245.1/279.7 MB 10.9 MB/s eta 0:00:04\n",
      "   ---------------------------------- ---- 245.1/279.7 MB 10.9 MB/s eta 0:00:04\n",
      "   ---------------------------------- ---- 245.1/279.7 MB 10.9 MB/s eta 0:00:04\n",
      "   ----------------------------------- ---- 247.2/279.7 MB 7.0 MB/s eta 0:00:05\n",
      "   ----------------------------------- ---- 249.0/279.7 MB 7.0 MB/s eta 0:00:05\n",
      "   ----------------------------------- ---- 249.6/279.7 MB 7.1 MB/s eta 0:00:05\n",
      "   ----------------------------------- ---- 250.4/279.7 MB 7.0 MB/s eta 0:00:05\n",
      "   ----------------------------------- ---- 250.8/279.7 MB 7.0 MB/s eta 0:00:05\n",
      "   ----------------------------------- ---- 251.3/279.7 MB 6.9 MB/s eta 0:00:05\n",
      "   ------------------------------------ --- 251.8/279.7 MB 7.0 MB/s eta 0:00:04\n",
      "   ------------------------------------ --- 252.6/279.7 MB 6.9 MB/s eta 0:00:04\n",
      "   ------------------------------------ --- 253.8/279.7 MB 6.8 MB/s eta 0:00:04\n",
      "   ------------------------------------ --- 254.3/279.7 MB 7.0 MB/s eta 0:00:04\n",
      "   ------------------------------------ --- 254.5/279.7 MB 7.0 MB/s eta 0:00:04\n",
      "   ------------------------------------ --- 254.5/279.7 MB 7.0 MB/s eta 0:00:04\n",
      "   ------------------------------------ --- 255.2/279.7 MB 7.0 MB/s eta 0:00:04\n",
      "   ----------------------------------- --- 256.8/279.7 MB 11.1 MB/s eta 0:00:03\n",
      "   ----------------------------------- --- 257.8/279.7 MB 10.9 MB/s eta 0:00:03\n",
      "   ------------------------------------ -- 258.4/279.7 MB 10.6 MB/s eta 0:00:03\n",
      "   ------------------------------------ -- 259.1/279.7 MB 10.6 MB/s eta 0:00:02\n",
      "   ------------------------------------ -- 259.6/279.7 MB 10.6 MB/s eta 0:00:02\n",
      "   ------------------------------------ -- 260.3/279.7 MB 10.6 MB/s eta 0:00:02\n",
      "   ------------------------------------ -- 261.2/279.7 MB 10.7 MB/s eta 0:00:02\n",
      "   ------------------------------------ -- 261.7/279.7 MB 10.7 MB/s eta 0:00:02\n",
      "   ------------------------------------ -- 262.8/279.7 MB 10.7 MB/s eta 0:00:02\n",
      "   ------------------------------------ -- 263.4/279.7 MB 10.9 MB/s eta 0:00:02\n",
      "   ------------------------------------ -- 264.1/279.7 MB 10.7 MB/s eta 0:00:02\n",
      "   ------------------------------------ -- 265.0/279.7 MB 12.1 MB/s eta 0:00:02\n",
      "   ------------------------------------- - 266.0/279.7 MB 11.3 MB/s eta 0:00:02\n",
      "   ------------------------------------- - 267.3/279.7 MB 10.7 MB/s eta 0:00:02\n",
      "   ------------------------------------- - 267.7/279.7 MB 10.4 MB/s eta 0:00:02\n",
      "   ------------------------------------- - 268.2/279.7 MB 10.4 MB/s eta 0:00:02\n",
      "   ------------------------------------- - 269.7/279.7 MB 10.4 MB/s eta 0:00:01\n",
      "   ------------------------------------- - 270.1/279.7 MB 10.4 MB/s eta 0:00:01\n",
      "   -------------------------------------- - 270.5/279.7 MB 9.9 MB/s eta 0:00:01\n",
      "   -------------------------------------- - 271.1/279.7 MB 9.9 MB/s eta 0:00:01\n",
      "   -------------------------------------- - 271.8/279.7 MB 9.9 MB/s eta 0:00:01\n",
      "   -------------------------------------- - 272.3/279.7 MB 9.9 MB/s eta 0:00:01\n",
      "   ---------------------------------------  272.8/279.7 MB 9.9 MB/s eta 0:00:01\n",
      "   ---------------------------------------  273.5/279.7 MB 9.9 MB/s eta 0:00:01\n",
      "   ---------------------------------------  274.0/279.7 MB 9.8 MB/s eta 0:00:01\n",
      "   ---------------------------------------  274.5/279.7 MB 9.8 MB/s eta 0:00:01\n",
      "   ---------------------------------------  275.1/279.7 MB 9.8 MB/s eta 0:00:01\n",
      "   ---------------------------------------  275.6/279.7 MB 9.9 MB/s eta 0:00:01\n",
      "   ---------------------------------------  276.1/279.7 MB 9.9 MB/s eta 0:00:01\n",
      "   --------------------------------------  276.7/279.7 MB 10.2 MB/s eta 0:00:01\n",
      "   --------------------------------------  277.1/279.7 MB 10.2 MB/s eta 0:00:01\n",
      "   --------------------------------------  277.7/279.7 MB 10.6 MB/s eta 0:00:01\n",
      "   --------------------------------------  278.2/279.7 MB 10.7 MB/s eta 0:00:01\n",
      "   --------------------------------------  278.7/279.7 MB 10.7 MB/s eta 0:00:01\n",
      "   --------------------------------------  279.2/279.7 MB 10.7 MB/s eta 0:00:01\n",
      "   --------------------------------------  279.7/279.7 MB 10.6 MB/s eta 0:00:01\n",
      "   --------------------------------------  279.7/279.7 MB 10.6 MB/s eta 0:00:01\n",
      "   --------------------------------------  279.7/279.7 MB 10.6 MB/s eta 0:00:01\n",
      "   --------------------------------------  279.7/279.7 MB 10.6 MB/s eta 0:00:01\n",
      "   --------------------------------------  279.7/279.7 MB 10.6 MB/s eta 0:00:01\n",
      "   --------------------------------------  279.7/279.7 MB 10.6 MB/s eta 0:00:01\n",
      "   --------------------------------------  279.7/279.7 MB 10.6 MB/s eta 0:00:01\n",
      "   --------------------------------------  279.7/279.7 MB 10.6 MB/s eta 0:00:01\n",
      "   --------------------------------------  279.7/279.7 MB 10.6 MB/s eta 0:00:01\n",
      "   --------------------------------------  279.7/279.7 MB 10.6 MB/s eta 0:00:01\n",
      "   --------------------------------------  279.7/279.7 MB 10.6 MB/s eta 0:00:01\n",
      "   --------------------------------------  279.7/279.7 MB 10.6 MB/s eta 0:00:01\n",
      "   --------------------------------------  279.7/279.7 MB 10.6 MB/s eta 0:00:01\n",
      "   --------------------------------------  279.7/279.7 MB 10.6 MB/s eta 0:00:01\n",
      "   --------------------------------------  279.7/279.7 MB 10.6 MB/s eta 0:00:01\n",
      "   --------------------------------------  279.7/279.7 MB 10.6 MB/s eta 0:00:01\n",
      "   --------------------------------------  279.7/279.7 MB 10.6 MB/s eta 0:00:01\n",
      "   --------------------------------------  279.7/279.7 MB 10.6 MB/s eta 0:00:01\n",
      "   --------------------------------------  279.7/279.7 MB 10.6 MB/s eta 0:00:01\n",
      "   --------------------------------------  279.7/279.7 MB 10.6 MB/s eta 0:00:01\n",
      "   --------------------------------------  279.7/279.7 MB 10.6 MB/s eta 0:00:01\n",
      "   --------------------------------------  279.7/279.7 MB 10.6 MB/s eta 0:00:01\n",
      "   --------------------------------------  279.7/279.7 MB 10.6 MB/s eta 0:00:01\n",
      "   --------------------------------------  279.7/279.7 MB 10.6 MB/s eta 0:00:01\n",
      "   --------------------------------------  279.7/279.7 MB 10.6 MB/s eta 0:00:01\n",
      "   --------------------------------------  279.7/279.7 MB 10.6 MB/s eta 0:00:01\n",
      "   --------------------------------------  279.7/279.7 MB 10.6 MB/s eta 0:00:01\n",
      "   --------------------------------------  279.7/279.7 MB 10.6 MB/s eta 0:00:01\n",
      "   --------------------------------------  279.7/279.7 MB 10.6 MB/s eta 0:00:01\n",
      "   --------------------------------------  279.7/279.7 MB 10.6 MB/s eta 0:00:01\n",
      "   --------------------------------------  279.7/279.7 MB 10.6 MB/s eta 0:00:01\n",
      "   --------------------------------------  279.7/279.7 MB 10.6 MB/s eta 0:00:01\n",
      "   --------------------------------------  279.7/279.7 MB 10.6 MB/s eta 0:00:01\n",
      "   --------------------------------------  279.7/279.7 MB 10.6 MB/s eta 0:00:01\n",
      "   --------------------------------------  279.7/279.7 MB 10.6 MB/s eta 0:00:01\n",
      "   --------------------------------------  279.7/279.7 MB 10.6 MB/s eta 0:00:01\n",
      "   --------------------------------------  279.7/279.7 MB 10.6 MB/s eta 0:00:01\n",
      "   --------------------------------------  279.7/279.7 MB 10.6 MB/s eta 0:00:01\n",
      "   --------------------------------------  279.7/279.7 MB 10.6 MB/s eta 0:00:01\n",
      "   --------------------------------------  279.7/279.7 MB 10.6 MB/s eta 0:00:01\n",
      "   --------------------------------------  279.7/279.7 MB 10.6 MB/s eta 0:00:01\n",
      "   --------------------------------------  279.7/279.7 MB 10.6 MB/s eta 0:00:01\n",
      "   --------------------------------------  279.7/279.7 MB 10.6 MB/s eta 0:00:01\n",
      "   --------------------------------------  279.7/279.7 MB 10.6 MB/s eta 0:00:01\n",
      "   --------------------------------------  279.7/279.7 MB 10.6 MB/s eta 0:00:01\n",
      "   --------------------------------------  279.7/279.7 MB 10.6 MB/s eta 0:00:01\n",
      "   --------------------------------------  279.7/279.7 MB 10.6 MB/s eta 0:00:01\n",
      "   --------------------------------------  279.7/279.7 MB 10.6 MB/s eta 0:00:01\n",
      "   --------------------------------------  279.7/279.7 MB 10.6 MB/s eta 0:00:01\n",
      "   --------------------------------------  279.7/279.7 MB 10.6 MB/s eta 0:00:01\n",
      "   --------------------------------------  279.7/279.7 MB 10.6 MB/s eta 0:00:01\n",
      "   --------------------------------------  279.7/279.7 MB 10.6 MB/s eta 0:00:01\n",
      "   --------------------------------------  279.7/279.7 MB 10.6 MB/s eta 0:00:01\n",
      "   --------------------------------------  279.7/279.7 MB 10.6 MB/s eta 0:00:01\n",
      "   --------------------------------------  279.7/279.7 MB 10.6 MB/s eta 0:00:01\n",
      "   --------------------------------------  279.7/279.7 MB 10.6 MB/s eta 0:00:01\n",
      "   --------------------------------------  279.7/279.7 MB 10.6 MB/s eta 0:00:01\n",
      "   --------------------------------------  279.7/279.7 MB 10.6 MB/s eta 0:00:01\n",
      "   --------------------------------------  279.7/279.7 MB 10.6 MB/s eta 0:00:01\n",
      "   --------------------------------------  279.7/279.7 MB 10.6 MB/s eta 0:00:01\n",
      "   --------------------------------------  279.7/279.7 MB 10.6 MB/s eta 0:00:01\n",
      "   --------------------------------------  279.7/279.7 MB 10.6 MB/s eta 0:00:01\n",
      "   --------------------------------------  279.7/279.7 MB 10.6 MB/s eta 0:00:01\n",
      "   --------------------------------------  279.7/279.7 MB 10.6 MB/s eta 0:00:01\n",
      "   --------------------------------------  279.7/279.7 MB 10.6 MB/s eta 0:00:01\n",
      "   --------------------------------------  279.7/279.7 MB 10.6 MB/s eta 0:00:01\n",
      "   --------------------------------------  279.7/279.7 MB 10.6 MB/s eta 0:00:01\n",
      "   --------------------------------------  279.7/279.7 MB 10.6 MB/s eta 0:00:01\n",
      "   --------------------------------------  279.7/279.7 MB 10.6 MB/s eta 0:00:01\n",
      "   --------------------------------------  279.7/279.7 MB 10.6 MB/s eta 0:00:01\n",
      "   --------------------------------------  279.7/279.7 MB 10.6 MB/s eta 0:00:01\n",
      "   --------------------------------------  279.7/279.7 MB 10.6 MB/s eta 0:00:01\n",
      "   --------------------------------------  279.7/279.7 MB 10.6 MB/s eta 0:00:01\n",
      "   --------------------------------------  279.7/279.7 MB 10.6 MB/s eta 0:00:01\n",
      "   --------------------------------------  279.7/279.7 MB 10.6 MB/s eta 0:00:01\n",
      "   --------------------------------------  279.7/279.7 MB 10.6 MB/s eta 0:00:01\n",
      "   --------------------------------------  279.7/279.7 MB 10.6 MB/s eta 0:00:01\n",
      "   --------------------------------------  279.7/279.7 MB 10.6 MB/s eta 0:00:01\n",
      "   --------------------------------------  279.7/279.7 MB 10.6 MB/s eta 0:00:01\n",
      "   --------------------------------------  279.7/279.7 MB 10.6 MB/s eta 0:00:01\n",
      "   --------------------------------------  279.7/279.7 MB 10.6 MB/s eta 0:00:01\n",
      "   --------------------------------------  279.7/279.7 MB 10.6 MB/s eta 0:00:01\n",
      "   --------------------------------------  279.7/279.7 MB 10.6 MB/s eta 0:00:01\n",
      "   --------------------------------------  279.7/279.7 MB 10.6 MB/s eta 0:00:01\n",
      "   --------------------------------------  279.7/279.7 MB 10.6 MB/s eta 0:00:01\n",
      "   --------------------------------------  279.7/279.7 MB 10.6 MB/s eta 0:00:01\n",
      "   --------------------------------------  279.7/279.7 MB 10.6 MB/s eta 0:00:01\n",
      "   --------------------------------------  279.7/279.7 MB 10.6 MB/s eta 0:00:01\n",
      "   --------------------------------------  279.7/279.7 MB 10.6 MB/s eta 0:00:01\n",
      "   --------------------------------------  279.7/279.7 MB 10.6 MB/s eta 0:00:01\n",
      "   --------------------------------------  279.7/279.7 MB 10.6 MB/s eta 0:00:01\n",
      "   --------------------------------------  279.7/279.7 MB 10.6 MB/s eta 0:00:01\n",
      "   --------------------------------------  279.7/279.7 MB 10.6 MB/s eta 0:00:01\n",
      "   --------------------------------------  279.7/279.7 MB 10.6 MB/s eta 0:00:01\n",
      "   --------------------------------------  279.7/279.7 MB 10.6 MB/s eta 0:00:01\n",
      "   --------------------------------------  279.7/279.7 MB 10.6 MB/s eta 0:00:01\n",
      "   --------------------------------------  279.7/279.7 MB 10.6 MB/s eta 0:00:01\n",
      "   --------------------------------------  279.7/279.7 MB 10.6 MB/s eta 0:00:01\n",
      "   --------------------------------------  279.7/279.7 MB 10.6 MB/s eta 0:00:01\n",
      "   --------------------------------------  279.7/279.7 MB 10.6 MB/s eta 0:00:01\n",
      "   --------------------------------------  279.7/279.7 MB 10.6 MB/s eta 0:00:01\n",
      "   --------------------------------------  279.7/279.7 MB 10.6 MB/s eta 0:00:01\n",
      "   --------------------------------------  279.7/279.7 MB 10.6 MB/s eta 0:00:01\n",
      "   --------------------------------------  279.7/279.7 MB 10.6 MB/s eta 0:00:01\n",
      "   --------------------------------------  279.7/279.7 MB 10.6 MB/s eta 0:00:01\n",
      "   --------------------------------------  279.7/279.7 MB 10.6 MB/s eta 0:00:01\n",
      "   --------------------------------------  279.7/279.7 MB 10.6 MB/s eta 0:00:01\n",
      "   --------------------------------------  279.7/279.7 MB 10.6 MB/s eta 0:00:01\n",
      "   --------------------------------------  279.7/279.7 MB 10.6 MB/s eta 0:00:01\n",
      "   --------------------------------------  279.7/279.7 MB 10.6 MB/s eta 0:00:01\n",
      "   --------------------------------------  279.7/279.7 MB 10.6 MB/s eta 0:00:01\n",
      "   --------------------------------------  279.7/279.7 MB 10.6 MB/s eta 0:00:01\n",
      "   --------------------------------------  279.7/279.7 MB 10.6 MB/s eta 0:00:01\n",
      "   --------------------------------------  279.7/279.7 MB 10.6 MB/s eta 0:00:01\n",
      "   --------------------------------------  279.7/279.7 MB 10.6 MB/s eta 0:00:01\n",
      "   --------------------------------------  279.7/279.7 MB 10.6 MB/s eta 0:00:01\n",
      "   --------------------------------------  279.7/279.7 MB 10.6 MB/s eta 0:00:01\n",
      "   --------------------------------------  279.7/279.7 MB 10.6 MB/s eta 0:00:01\n",
      "   --------------------------------------  279.7/279.7 MB 10.6 MB/s eta 0:00:01\n",
      "   --------------------------------------  279.7/279.7 MB 10.6 MB/s eta 0:00:01\n",
      "   --------------------------------------  279.7/279.7 MB 10.6 MB/s eta 0:00:01\n",
      "   --------------------------------------  279.7/279.7 MB 10.6 MB/s eta 0:00:01\n",
      "   --------------------------------------  279.7/279.7 MB 10.6 MB/s eta 0:00:01\n",
      "   --------------------------------------  279.7/279.7 MB 10.6 MB/s eta 0:00:01\n",
      "   --------------------------------------  279.7/279.7 MB 10.6 MB/s eta 0:00:01\n",
      "   --------------------------------------  279.7/279.7 MB 10.6 MB/s eta 0:00:01\n",
      "   --------------------------------------  279.7/279.7 MB 10.6 MB/s eta 0:00:01\n",
      "   --------------------------------------  279.7/279.7 MB 10.6 MB/s eta 0:00:01\n",
      "   --------------------------------------  279.7/279.7 MB 10.6 MB/s eta 0:00:01\n",
      "   --------------------------------------  279.7/279.7 MB 10.6 MB/s eta 0:00:01\n",
      "   --------------------------------------  279.7/279.7 MB 10.6 MB/s eta 0:00:01\n",
      "   --------------------------------------  279.7/279.7 MB 10.6 MB/s eta 0:00:01\n",
      "   --------------------------------------  279.7/279.7 MB 10.6 MB/s eta 0:00:01\n",
      "   --------------------------------------  279.7/279.7 MB 10.6 MB/s eta 0:00:01\n",
      "   --------------------------------------  279.7/279.7 MB 10.6 MB/s eta 0:00:01\n",
      "   --------------------------------------  279.7/279.7 MB 10.6 MB/s eta 0:00:01\n",
      "   --------------------------------------  279.7/279.7 MB 10.6 MB/s eta 0:00:01\n",
      "   --------------------------------------  279.7/279.7 MB 10.6 MB/s eta 0:00:01\n",
      "   --------------------------------------  279.7/279.7 MB 10.6 MB/s eta 0:00:01\n",
      "   --------------------------------------  279.7/279.7 MB 10.6 MB/s eta 0:00:01\n",
      "   --------------------------------------  279.7/279.7 MB 10.6 MB/s eta 0:00:01\n",
      "   --------------------------------------  279.7/279.7 MB 10.6 MB/s eta 0:00:01\n",
      "   --------------------------------------  279.7/279.7 MB 10.6 MB/s eta 0:00:01\n",
      "   --------------------------------------  279.7/279.7 MB 10.6 MB/s eta 0:00:01\n",
      "   --------------------------------------  279.7/279.7 MB 10.6 MB/s eta 0:00:01\n",
      "   --------------------------------------  279.7/279.7 MB 10.6 MB/s eta 0:00:01\n",
      "   --------------------------------------  279.7/279.7 MB 10.6 MB/s eta 0:00:01\n",
      "   --------------------------------------  279.7/279.7 MB 10.6 MB/s eta 0:00:01\n",
      "   --------------------------------------  279.7/279.7 MB 10.6 MB/s eta 0:00:01\n",
      "   --------------------------------------  279.7/279.7 MB 10.6 MB/s eta 0:00:01\n",
      "   --------------------------------------  279.7/279.7 MB 10.6 MB/s eta 0:00:01\n",
      "   --------------------------------------  279.7/279.7 MB 10.6 MB/s eta 0:00:01\n",
      "   --------------------------------------  279.7/279.7 MB 10.6 MB/s eta 0:00:01\n",
      "   --------------------------------------  279.7/279.7 MB 10.6 MB/s eta 0:00:01\n",
      "   --------------------------------------  279.7/279.7 MB 10.6 MB/s eta 0:00:01\n",
      "   --------------------------------------  279.7/279.7 MB 10.6 MB/s eta 0:00:01\n",
      "   --------------------------------------  279.7/279.7 MB 10.6 MB/s eta 0:00:01\n",
      "   --------------------------------------  279.7/279.7 MB 10.6 MB/s eta 0:00:01\n",
      "   --------------------------------------  279.7/279.7 MB 10.6 MB/s eta 0:00:01\n",
      "   --------------------------------------  279.7/279.7 MB 10.6 MB/s eta 0:00:01\n",
      "   --------------------------------------  279.7/279.7 MB 10.6 MB/s eta 0:00:01\n",
      "   --------------------------------------  279.7/279.7 MB 10.6 MB/s eta 0:00:01\n",
      "   --------------------------------------  279.7/279.7 MB 10.6 MB/s eta 0:00:01\n",
      "   --------------------------------------  279.7/279.7 MB 10.6 MB/s eta 0:00:01\n",
      "   --------------------------------------  279.7/279.7 MB 10.6 MB/s eta 0:00:01\n",
      "   --------------------------------------  279.7/279.7 MB 10.6 MB/s eta 0:00:01\n",
      "   --------------------------------------  279.7/279.7 MB 10.6 MB/s eta 0:00:01\n",
      "   --------------------------------------  279.7/279.7 MB 10.6 MB/s eta 0:00:01\n",
      "   --------------------------------------  279.7/279.7 MB 10.6 MB/s eta 0:00:01\n",
      "   --------------------------------------  279.7/279.7 MB 10.6 MB/s eta 0:00:01\n",
      "   --------------------------------------  279.7/279.7 MB 10.6 MB/s eta 0:00:01\n",
      "   --------------------------------------  279.7/279.7 MB 10.6 MB/s eta 0:00:01\n",
      "   --------------------------------------  279.7/279.7 MB 10.6 MB/s eta 0:00:01\n",
      "   --------------------------------------  279.7/279.7 MB 10.6 MB/s eta 0:00:01\n",
      "   --------------------------------------  279.7/279.7 MB 10.6 MB/s eta 0:00:01\n",
      "   --------------------------------------  279.7/279.7 MB 10.6 MB/s eta 0:00:01\n",
      "   --------------------------------------  279.7/279.7 MB 10.6 MB/s eta 0:00:01\n",
      "   --------------------------------------  279.7/279.7 MB 10.6 MB/s eta 0:00:01\n",
      "   --------------------------------------  279.7/279.7 MB 10.6 MB/s eta 0:00:01\n",
      "   --------------------------------------  279.7/279.7 MB 10.6 MB/s eta 0:00:01\n",
      "   --------------------------------------  279.7/279.7 MB 10.6 MB/s eta 0:00:01\n",
      "   --------------------------------------  279.7/279.7 MB 10.6 MB/s eta 0:00:01\n",
      "   --------------------------------------  279.7/279.7 MB 10.6 MB/s eta 0:00:01\n",
      "   --------------------------------------  279.7/279.7 MB 10.6 MB/s eta 0:00:01\n",
      "   --------------------------------------  279.7/279.7 MB 10.6 MB/s eta 0:00:01\n",
      "   --------------------------------------  279.7/279.7 MB 10.6 MB/s eta 0:00:01\n",
      "   --------------------------------------  279.7/279.7 MB 10.6 MB/s eta 0:00:01\n",
      "   --------------------------------------  279.7/279.7 MB 10.6 MB/s eta 0:00:01\n",
      "   --------------------------------------  279.7/279.7 MB 10.6 MB/s eta 0:00:01\n",
      "   --------------------------------------  279.7/279.7 MB 10.6 MB/s eta 0:00:01\n",
      "   --------------------------------------  279.7/279.7 MB 10.6 MB/s eta 0:00:01\n",
      "   --------------------------------------  279.7/279.7 MB 10.6 MB/s eta 0:00:01\n",
      "   --------------------------------------  279.7/279.7 MB 10.6 MB/s eta 0:00:01\n",
      "   --------------------------------------  279.7/279.7 MB 10.6 MB/s eta 0:00:01\n",
      "   --------------------------------------  279.7/279.7 MB 10.6 MB/s eta 0:00:01\n",
      "   --------------------------------------  279.7/279.7 MB 10.6 MB/s eta 0:00:01\n",
      "   --------------------------------------  279.7/279.7 MB 10.6 MB/s eta 0:00:01\n",
      "   --------------------------------------  279.7/279.7 MB 10.6 MB/s eta 0:00:01\n",
      "   --------------------------------------  279.7/279.7 MB 10.6 MB/s eta 0:00:01\n",
      "   --------------------------------------  279.7/279.7 MB 10.6 MB/s eta 0:00:01\n",
      "   --------------------------------------  279.7/279.7 MB 10.6 MB/s eta 0:00:01\n",
      "   --------------------------------------  279.7/279.7 MB 10.6 MB/s eta 0:00:01\n",
      "   --------------------------------------  279.7/279.7 MB 10.6 MB/s eta 0:00:01\n",
      "   --------------------------------------  279.7/279.7 MB 10.6 MB/s eta 0:00:01\n",
      "   --------------------------------------  279.7/279.7 MB 10.6 MB/s eta 0:00:01\n",
      "   --------------------------------------  279.7/279.7 MB 10.6 MB/s eta 0:00:01\n",
      "   --------------------------------------  279.7/279.7 MB 10.6 MB/s eta 0:00:01\n",
      "   --------------------------------------  279.7/279.7 MB 10.6 MB/s eta 0:00:01\n",
      "   --------------------------------------  279.7/279.7 MB 10.6 MB/s eta 0:00:01\n",
      "   --------------------------------------  279.7/279.7 MB 10.6 MB/s eta 0:00:01\n",
      "   --------------------------------------  279.7/279.7 MB 10.6 MB/s eta 0:00:01\n",
      "   --------------------------------------  279.7/279.7 MB 10.6 MB/s eta 0:00:01\n",
      "   --------------------------------------  279.7/279.7 MB 10.6 MB/s eta 0:00:01\n",
      "   --------------------------------------  279.7/279.7 MB 10.6 MB/s eta 0:00:01\n",
      "   --------------------------------------  279.7/279.7 MB 10.6 MB/s eta 0:00:01\n",
      "   --------------------------------------  279.7/279.7 MB 10.6 MB/s eta 0:00:01\n",
      "   --------------------------------------  279.7/279.7 MB 10.6 MB/s eta 0:00:01\n",
      "   --------------------------------------  279.7/279.7 MB 10.6 MB/s eta 0:00:01\n",
      "   --------------------------------------  279.7/279.7 MB 10.6 MB/s eta 0:00:01\n",
      "   --------------------------------------  279.7/279.7 MB 10.6 MB/s eta 0:00:01\n",
      "   --------------------------------------  279.7/279.7 MB 10.6 MB/s eta 0:00:01\n",
      "   --------------------------------------  279.7/279.7 MB 10.6 MB/s eta 0:00:01\n",
      "   --------------------------------------  279.7/279.7 MB 10.6 MB/s eta 0:00:01\n",
      "   --------------------------------------  279.7/279.7 MB 10.6 MB/s eta 0:00:01\n",
      "   --------------------------------------  279.7/279.7 MB 10.6 MB/s eta 0:00:01\n",
      "   --------------------------------------  279.7/279.7 MB 10.6 MB/s eta 0:00:01\n",
      "   --------------------------------------  279.7/279.7 MB 10.6 MB/s eta 0:00:01\n",
      "   --------------------------------------  279.7/279.7 MB 10.6 MB/s eta 0:00:01\n",
      "   --------------------------------------  279.7/279.7 MB 10.6 MB/s eta 0:00:01\n",
      "   --------------------------------------  279.7/279.7 MB 10.6 MB/s eta 0:00:01\n",
      "   --------------------------------------  279.7/279.7 MB 10.6 MB/s eta 0:00:01\n",
      "   --------------------------------------  279.7/279.7 MB 10.6 MB/s eta 0:00:01\n",
      "   --------------------------------------  279.7/279.7 MB 10.6 MB/s eta 0:00:01\n",
      "   --------------------------------------  279.7/279.7 MB 10.6 MB/s eta 0:00:01\n",
      "   --------------------------------------  279.7/279.7 MB 10.6 MB/s eta 0:00:01\n",
      "   --------------------------------------  279.7/279.7 MB 10.6 MB/s eta 0:00:01\n",
      "   --------------------------------------  279.7/279.7 MB 10.6 MB/s eta 0:00:01\n",
      "   --------------------------------------  279.7/279.7 MB 10.6 MB/s eta 0:00:01\n",
      "   --------------------------------------  279.7/279.7 MB 10.6 MB/s eta 0:00:01\n",
      "   --------------------------------------  279.7/279.7 MB 10.6 MB/s eta 0:00:01\n",
      "   --------------------------------------  279.7/279.7 MB 10.6 MB/s eta 0:00:01\n",
      "   --------------------------------------  279.7/279.7 MB 10.6 MB/s eta 0:00:01\n",
      "   --------------------------------------  279.7/279.7 MB 10.6 MB/s eta 0:00:01\n",
      "   --------------------------------------  279.7/279.7 MB 10.6 MB/s eta 0:00:01\n",
      "   --------------------------------------  279.7/279.7 MB 10.6 MB/s eta 0:00:01\n",
      "   --------------------------------------  279.7/279.7 MB 10.6 MB/s eta 0:00:01\n",
      "   --------------------------------------  279.7/279.7 MB 10.6 MB/s eta 0:00:01\n",
      "   --------------------------------------  279.7/279.7 MB 10.6 MB/s eta 0:00:01\n",
      "   --------------------------------------  279.7/279.7 MB 10.6 MB/s eta 0:00:01\n",
      "   --------------------------------------  279.7/279.7 MB 10.6 MB/s eta 0:00:01\n",
      "   --------------------------------------  279.7/279.7 MB 10.6 MB/s eta 0:00:01\n",
      "   --------------------------------------  279.7/279.7 MB 10.6 MB/s eta 0:00:01\n",
      "   --------------------------------------  279.7/279.7 MB 10.6 MB/s eta 0:00:01\n",
      "   --------------------------------------  279.7/279.7 MB 10.6 MB/s eta 0:00:01\n",
      "   --------------------------------------  279.7/279.7 MB 10.6 MB/s eta 0:00:01\n",
      "   --------------------------------------  279.7/279.7 MB 10.6 MB/s eta 0:00:01\n",
      "   --------------------------------------  279.7/279.7 MB 10.6 MB/s eta 0:00:01\n",
      "   --------------------------------------  279.7/279.7 MB 10.6 MB/s eta 0:00:01\n",
      "   --------------------------------------  279.7/279.7 MB 10.6 MB/s eta 0:00:01\n",
      "   --------------------------------------  279.7/279.7 MB 10.6 MB/s eta 0:00:01\n",
      "   --------------------------------------  279.7/279.7 MB 10.6 MB/s eta 0:00:01\n",
      "   --------------------------------------  279.7/279.7 MB 10.6 MB/s eta 0:00:01\n",
      "   --------------------------------------  279.7/279.7 MB 10.6 MB/s eta 0:00:01\n",
      "   --------------------------------------  279.7/279.7 MB 10.6 MB/s eta 0:00:01\n",
      "   --------------------------------------  279.7/279.7 MB 10.6 MB/s eta 0:00:01\n",
      "   --------------------------------------  279.7/279.7 MB 10.6 MB/s eta 0:00:01\n",
      "   --------------------------------------  279.7/279.7 MB 10.6 MB/s eta 0:00:01\n",
      "   --------------------------------------  279.7/279.7 MB 10.6 MB/s eta 0:00:01\n",
      "   --------------------------------------  279.7/279.7 MB 10.6 MB/s eta 0:00:01\n",
      "   --------------------------------------  279.7/279.7 MB 10.6 MB/s eta 0:00:01\n",
      "   --------------------------------------  279.7/279.7 MB 10.6 MB/s eta 0:00:01\n",
      "   --------------------------------------  279.7/279.7 MB 10.6 MB/s eta 0:00:01\n",
      "   --------------------------------------  279.7/279.7 MB 10.6 MB/s eta 0:00:01\n",
      "   --------------------------------------  279.7/279.7 MB 10.6 MB/s eta 0:00:01\n",
      "   --------------------------------------  279.7/279.7 MB 10.6 MB/s eta 0:00:01\n",
      "   --------------------------------------  279.7/279.7 MB 10.6 MB/s eta 0:00:01\n",
      "   --------------------------------------  279.7/279.7 MB 10.6 MB/s eta 0:00:01\n",
      "   --------------------------------------  279.7/279.7 MB 10.6 MB/s eta 0:00:01\n",
      "   --------------------------------------  279.7/279.7 MB 10.6 MB/s eta 0:00:01\n",
      "   -------------------------------------- 279.7/279.7 MB 719.7 kB/s eta 0:00:00\n",
      "Downloading coloredlogs-15.0.1-py2.py3-none-any.whl (46 kB)\n",
      "   ---------------------------------------- 0.0/46.0 kB ? eta -:--:--\n",
      "   ---------------------------------------- 46.0/46.0 kB 1.2 MB/s eta 0:00:00\n",
      "Downloading flatbuffers-24.12.23-py2.py3-none-any.whl (30 kB)\n",
      "Downloading humanfriendly-10.0-py2.py3-none-any.whl (86 kB)\n",
      "   ---------------------------------------- 0.0/86.8 kB ? eta -:--:--\n",
      "   ---------------------------------------- 86.8/86.8 kB 2.5 MB/s eta 0:00:00\n",
      "Downloading pyreadline3-3.5.4-py3-none-any.whl (83 kB)\n",
      "   ---------------------------------------- 0.0/83.2 kB ? eta -:--:--\n",
      "   ---------------------------------------- 83.2/83.2 kB 2.3 MB/s eta 0:00:00\n",
      "Installing collected packages: flatbuffers, pyreadline3, humanfriendly, coloredlogs, onnxruntime-gpu\n",
      "Successfully installed coloredlogs-15.0.1 flatbuffers-24.12.23 humanfriendly-10.0 onnxruntime-gpu-1.20.1 pyreadline3-3.5.4\n",
      "\n"
     ]
    }
   ],
   "source": [
    "pip install onnxruntime-gpu\n"
   ]
  },
  {
   "cell_type": "code",
   "execution_count": null,
   "metadata": {},
   "outputs": [
    {
     "ename": "FileNotFoundError",
     "evalue": "[Errno 2] No such file or directory: 'omg.jpg'",
     "output_type": "error",
     "traceback": [
      "\u001b[1;31m---------------------------------------------------------------------------\u001b[0m\n",
      "\u001b[1;31mFileNotFoundError\u001b[0m                         Traceback (most recent call last)\n",
      "Cell \u001b[1;32mIn[12], line 2\u001b[0m\n",
      "\u001b[0;32m      1\u001b[0m \u001b[38;5;28;01mfrom\u001b[39;00m \u001b[38;5;21;01mPIL\u001b[39;00m \u001b[38;5;28;01mimport\u001b[39;00m Image\n",
      "\u001b[1;32m----> 2\u001b[0m Image\u001b[38;5;241m.\u001b[39mopen(\u001b[38;5;124m\"\u001b[39m\u001b[38;5;124momg.jpg\u001b[39m\u001b[38;5;124m\"\u001b[39m)\u001b[38;5;241m.\u001b[39mshow()\n",
      "\n",
      "File \u001b[1;32mc:\\Users\\morea\\anaconda3\\Lib\\site-packages\\PIL\\Image.py:3247\u001b[0m, in \u001b[0;36mopen\u001b[1;34m(fp, mode, formats)\u001b[0m\n",
      "\u001b[0;32m   3244\u001b[0m     filename \u001b[38;5;241m=\u001b[39m fp\n",
      "\u001b[0;32m   3246\u001b[0m \u001b[38;5;28;01mif\u001b[39;00m filename:\n",
      "\u001b[1;32m-> 3247\u001b[0m     fp \u001b[38;5;241m=\u001b[39m builtins\u001b[38;5;241m.\u001b[39mopen(filename, \u001b[38;5;124m\"\u001b[39m\u001b[38;5;124mrb\u001b[39m\u001b[38;5;124m\"\u001b[39m)\n",
      "\u001b[0;32m   3248\u001b[0m     exclusive_fp \u001b[38;5;241m=\u001b[39m \u001b[38;5;28;01mTrue\u001b[39;00m\n",
      "\u001b[0;32m   3250\u001b[0m \u001b[38;5;28;01mtry\u001b[39;00m:\n",
      "\n",
      "\u001b[1;31mFileNotFoundError\u001b[0m: [Errno 2] No such file or directory: 'omg.jpg'"
     ]
    }
   ],
   "source": [
    "from PIL import Image\n",
    "Image.open(\"omg.jpg\").show()\n"
   ]
  },
  {
   "cell_type": "code",
   "execution_count": null,
   "metadata": {},
   "outputs": [],
   "source": []
  }
 ],
 "metadata": {
  "language_info": {
   "name": "python"
  }
 },
 "nbformat": 4,
 "nbformat_minor": 2
}
